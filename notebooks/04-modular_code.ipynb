{
 "cells": [
  {
   "cell_type": "markdown",
   "id": "8508a2d2-e00b-40fd-a36e-5bb6a7246fc1",
   "metadata": {
    "slideshow": {
     "slide_type": "slide"
    },
    "tags": []
   },
   "source": [
    "# Modular Code\n",
    "\n",
    "![](images/legos.jpg)"
   ]
  },
  {
   "cell_type": "markdown",
   "id": "189cdd58-cf78-4d6c-84b9-bff84b233919",
   "metadata": {
    "slideshow": {
     "slide_type": "slide"
    },
    "tags": []
   },
   "source": [
    "# What's Modularity?\n",
    "\n",
    "- Building our code in discrete, clearly separated chunks\n",
    "- So we can...\n",
    "  - **Modify one piece** without breaking the others\n",
    "  - **Combine pieces** in different ways, as we need them"
   ]
  },
  {
   "cell_type": "markdown",
   "id": "63602da2-d767-47b3-873c-8b5e2d398a63",
   "metadata": {
    "slideshow": {
     "slide_type": "fragment"
    },
    "tags": []
   },
   "source": [
    "Often, modularity implies breaking our code down into different **functions** which live in different **modules**."
   ]
  },
  {
   "cell_type": "markdown",
   "id": "375fcb2a-12f6-47da-a01a-f75c8abcafab",
   "metadata": {
    "tags": []
   },
   "source": [
    "<div class=\"admonition note alert alert-info\">\n",
    "<p class=\"first admonition-title\" style=\"font-weight: bold;\"><b>Note</b></p>\n",
    "    <p class=\"last\">Generally, a <em>module</em> in Python is just a file that ends in <code>.py</code></p>\n",
    "</div>"
   ]
  },
  {
   "cell_type": "markdown",
   "id": "719240b2-c828-45fa-afc4-83c8c089d72b",
   "metadata": {
    "slideshow": {
     "slide_type": "slide"
    },
    "tags": []
   },
   "source": [
    "## How do we achieve modularity in Python?\n",
    "- Move code chunks into their own **functions**\n",
    "- Move functions into their own **files**"
   ]
  },
  {
   "cell_type": "markdown",
   "id": "a445cc43-d99f-49a5-97f6-456a686ed502",
   "metadata": {
    "slideshow": {
     "slide_type": "slide"
    },
    "tags": []
   },
   "source": [
    "## Example: Functions\n",
    "In the last section, we imported some data from a CSV, kept just its numeric columns, and separated the target from the features..."
   ]
  },
  {
   "cell_type": "code",
   "execution_count": 1,
   "id": "8fbccadb-ef77-4fbb-bebb-9306f80f9efe",
   "metadata": {},
   "outputs": [],
   "source": [
    "import numpy as np\n",
    "import pandas as pd\n",
    "\n",
    "adult_census = pd.read_csv(\"../data/adult-census.csv\")\n",
    "\n",
    "# create column names of interest\n",
    "target_col = \"class\"\n",
    "\n",
    "raw_features = adult_census.drop(columns=target_col)\n",
    "numeric_features = raw_features.select_dtypes(np.number)\n",
    "feature_cols = numeric_features.columns.values\n",
    "\n",
    "features = adult_census[feature_cols]\n",
    "target = adult_census[target_col]"
   ]
  },
  {
   "cell_type": "markdown",
   "id": "e5325c45-2c2c-4c22-8701-84c0ebd074cf",
   "metadata": {
    "slideshow": {
     "slide_type": "fragment"
    },
    "tags": []
   },
   "source": [
    "This is a lot of code though, and we might want to do this again in the future **with different data sets**.\n",
    "\n",
    "That makes it a perfect case to be its own function."
   ]
  },
  {
   "cell_type": "code",
   "execution_count": 2,
   "id": "9f9d8082-a6c0-44fc-b07c-2cc546026811",
   "metadata": {
    "slideshow": {
     "slide_type": "slide"
    },
    "tags": []
   },
   "outputs": [],
   "source": [
    "def get_features_and_target():\n",
    "    '''Split a CSV into a DF of numeric features and a target column.'''\n",
    "    adult_census = pd.read_csv(\"../data/adult-census.csv\")\n",
    "\n",
    "    target_col = \"class\"\n",
    "    \n",
    "    raw_features = adult_census.drop(columns=target_col)\n",
    "    numeric_features = raw_features.select_dtypes(np.number)\n",
    "    feature_cols = numeric_features.columns.values\n",
    "\n",
    "    features = adult_census[feature_cols]\n",
    "    target = adult_census[target_col]\n",
    "    \n",
    "    return (features, target)"
   ]
  },
  {
   "cell_type": "markdown",
   "id": "d7742630-3832-452b-bfcb-0c0e5b8f0211",
   "metadata": {
    "slideshow": {
     "slide_type": "fragment"
    },
    "tags": []
   },
   "source": [
    "Let's test it!"
   ]
  },
  {
   "cell_type": "code",
   "execution_count": 3,
   "id": "9d968ac2-5f84-4380-9080-f67eba43103c",
   "metadata": {},
   "outputs": [
    {
     "data": {
      "text/html": [
       "<div>\n",
       "<style scoped>\n",
       "    .dataframe tbody tr th:only-of-type {\n",
       "        vertical-align: middle;\n",
       "    }\n",
       "\n",
       "    .dataframe tbody tr th {\n",
       "        vertical-align: top;\n",
       "    }\n",
       "\n",
       "    .dataframe thead th {\n",
       "        text-align: right;\n",
       "    }\n",
       "</style>\n",
       "<table border=\"1\" class=\"dataframe\">\n",
       "  <thead>\n",
       "    <tr style=\"text-align: right;\">\n",
       "      <th></th>\n",
       "      <th>age</th>\n",
       "      <th>education-num</th>\n",
       "      <th>capital-gain</th>\n",
       "      <th>capital-loss</th>\n",
       "      <th>hours-per-week</th>\n",
       "    </tr>\n",
       "  </thead>\n",
       "  <tbody>\n",
       "    <tr>\n",
       "      <th>0</th>\n",
       "      <td>25</td>\n",
       "      <td>7</td>\n",
       "      <td>0</td>\n",
       "      <td>0</td>\n",
       "      <td>40</td>\n",
       "    </tr>\n",
       "    <tr>\n",
       "      <th>1</th>\n",
       "      <td>38</td>\n",
       "      <td>9</td>\n",
       "      <td>0</td>\n",
       "      <td>0</td>\n",
       "      <td>50</td>\n",
       "    </tr>\n",
       "    <tr>\n",
       "      <th>2</th>\n",
       "      <td>28</td>\n",
       "      <td>12</td>\n",
       "      <td>0</td>\n",
       "      <td>0</td>\n",
       "      <td>40</td>\n",
       "    </tr>\n",
       "    <tr>\n",
       "      <th>3</th>\n",
       "      <td>44</td>\n",
       "      <td>10</td>\n",
       "      <td>7688</td>\n",
       "      <td>0</td>\n",
       "      <td>40</td>\n",
       "    </tr>\n",
       "    <tr>\n",
       "      <th>4</th>\n",
       "      <td>18</td>\n",
       "      <td>10</td>\n",
       "      <td>0</td>\n",
       "      <td>0</td>\n",
       "      <td>30</td>\n",
       "    </tr>\n",
       "  </tbody>\n",
       "</table>\n",
       "</div>"
      ],
      "text/plain": [
       "   age  education-num  capital-gain  capital-loss  hours-per-week\n",
       "0   25              7             0             0              40\n",
       "1   38              9             0             0              50\n",
       "2   28             12             0             0              40\n",
       "3   44             10          7688             0              40\n",
       "4   18             10             0             0              30"
      ]
     },
     "execution_count": 3,
     "metadata": {},
     "output_type": "execute_result"
    }
   ],
   "source": [
    "f, t = get_features_and_target()\n",
    "f.head()"
   ]
  },
  {
   "cell_type": "code",
   "execution_count": 4,
   "id": "065fec64-a8c7-4264-8d2d-64f8a6bf6e5e",
   "metadata": {},
   "outputs": [
    {
     "data": {
      "text/plain": [
       "0     <=50K\n",
       "1     <=50K\n",
       "2      >50K\n",
       "3      >50K\n",
       "4     <=50K\n",
       "Name: class, dtype: object"
      ]
     },
     "execution_count": 4,
     "metadata": {},
     "output_type": "execute_result"
    }
   ],
   "source": [
    "t.head()"
   ]
  },
  {
   "cell_type": "markdown",
   "id": "80a80a7d-5996-4045-a172-55290974c843",
   "metadata": {},
   "source": [
    "Looks like it worked!!"
   ]
  },
  {
   "cell_type": "code",
   "execution_count": 5,
   "id": "65753a10-5b76-42f1-a970-a71b0677ed7a",
   "metadata": {
    "slideshow": {
     "slide_type": "slide"
    },
    "tags": []
   },
   "outputs": [],
   "source": [
    "def get_features_and_target():\n",
    "    '''Split a CSV into a DF of numeric features and a target column.'''\n",
    "    adult_census = pd.read_csv(\"../data/adult-census.csv\")\n",
    "\n",
    "    target_col = \"class\"\n",
    "    \n",
    "    raw_features = adult_census.drop(columns=target_col)\n",
    "    numeric_features = raw_features.select_dtypes(np.number)\n",
    "    feature_cols = numeric_features.columns.values\n",
    "\n",
    "    features = adult_census[feature_cols]\n",
    "    target = adult_census[target_col]\n",
    "    \n",
    "    return (features, target)"
   ]
  },
  {
   "cell_type": "markdown",
   "id": "044fa257-a6b9-4189-ae7b-8324e64f68f3",
   "metadata": {},
   "source": [
    "<div class=\"admonition note alert alert-info\">\n",
    "    <b><p class=\"first admonition-title\" style=\"font-weight: bold;\">Discussion</p></b>\n",
    "    How would we apply this function to new data?\n",
    "</div>"
   ]
  },
  {
   "cell_type": "markdown",
   "id": "50d64911-785e-4019-93ca-6a0504dea0cb",
   "metadata": {
    "slideshow": {
     "slide_type": "fragment"
    },
    "tags": []
   },
   "source": [
    "We can't! We didn't **parametrize** it."
   ]
  },
  {
   "cell_type": "markdown",
   "id": "cec58ea8-cae1-43c0-8af7-957ab8cbf16c",
   "metadata": {
    "slideshow": {
     "slide_type": "slide"
    },
    "tags": []
   },
   "source": [
    "## Parametrizing Functions\n",
    "\n",
    "While functions are about reusing code, we rarely want to rerun *exactly* the same code.\n",
    "\n",
    "Usually, there are a small number of things that should change from run to run. These are called **parameters**."
   ]
  },
  {
   "cell_type": "markdown",
   "id": "b1646049-4f65-4868-84f1-331d6a3943d2",
   "metadata": {
    "slideshow": {
     "slide_type": "fragment"
    },
    "tags": []
   },
   "source": [
    "Common things that might be used parameters:\n",
    "- threshold values\n",
    "- filenames\n",
    "- column names"
   ]
  },
  {
   "cell_type": "code",
   "execution_count": 6,
   "id": "02479640-a0d9-4b84-9114-20515c5c756d",
   "metadata": {
    "slideshow": {
     "slide_type": "slide"
    },
    "tags": []
   },
   "outputs": [],
   "source": [
    "def get_features_and_target():\n",
    "    '''Split a CSV into a DF of numeric features and a target column.'''\n",
    "    adult_census = pd.read_csv(\"../data/adult-census.csv\")\n",
    "\n",
    "    target_col = \"class\"\n",
    "    \n",
    "    raw_features = adult_census.drop(columns=target_col)\n",
    "    numeric_features = raw_features.select_dtypes(np.number)\n",
    "    feature_cols = numeric_features.columns.values\n",
    "\n",
    "    features = adult_census[feature_cols]\n",
    "    target = adult_census[target_col]\n",
    "    \n",
    "    return (features, target)"
   ]
  },
  {
   "cell_type": "markdown",
   "id": "d80267a4-5441-4642-8998-2d97ff50b55d",
   "metadata": {},
   "source": [
    "<div class=\"admonition note alert alert-info\">\n",
    "    <b><p class=\"first admonition-title\" style=\"font-weight: bold;\">Discussion</p></b>\n",
    "    What should be the parameters of our <code>get_features_and_target</code> function?\n",
    "</div>"
   ]
  },
  {
   "cell_type": "code",
   "execution_count": 7,
   "id": "7ded97b6-9595-416f-ab26-d98301a7d714",
   "metadata": {
    "slideshow": {
     "slide_type": "slide"
    },
    "tags": []
   },
   "outputs": [],
   "source": [
    "def get_features_and_target(csv_file, target_col):\n",
    "    '''Split a CSV into a DF of numeric features and a target column.'''\n",
    "    \n",
    "    adult_census = pd.read_csv(csv_file)\n",
    "    \n",
    "    raw_features = adult_census.drop(columns=target_col)\n",
    "    numeric_features = raw_features.select_dtypes(np.number)\n",
    "    feature_cols = numeric_features.columns.values\n",
    "\n",
    "    features = adult_census[feature_cols]\n",
    "    target = adult_census[target_col]\n",
    "    \n",
    "    return (features, target)"
   ]
  },
  {
   "cell_type": "markdown",
   "id": "ce36e103-c5fa-4818-a28b-ba97e4e4907d",
   "metadata": {
    "slideshow": {
     "slide_type": "slide"
    },
    "tags": []
   },
   "source": [
    "Now if we call our function without passing `csv_file` and `target_col`, we get an error:"
   ]
  },
  {
   "cell_type": "code",
   "execution_count": 8,
   "id": "9c8ffbcb-1870-43f9-9204-3149e1f1940c",
   "metadata": {
    "tags": [
     "ci-skip"
    ]
   },
   "outputs": [
    {
     "ename": "TypeError",
     "evalue": "get_features_and_target() missing 2 required positional arguments: 'csv_file' and 'target_col'",
     "output_type": "error",
     "traceback": [
      "\u001b[0;31m---------------------------------------------------------------------------\u001b[0m",
      "\u001b[0;31mTypeError\u001b[0m                                 Traceback (most recent call last)",
      "\u001b[0;32m/var/folders/j3/v1318ng94fvdpq7kzr0hq9kw0000gn/T/ipykernel_2533/3218846325.py\u001b[0m in \u001b[0;36m<module>\u001b[0;34m\u001b[0m\n\u001b[0;32m----> 1\u001b[0;31m \u001b[0mf\u001b[0m\u001b[0;34m,\u001b[0m \u001b[0mt\u001b[0m \u001b[0;34m=\u001b[0m \u001b[0mget_features_and_target\u001b[0m\u001b[0;34m(\u001b[0m\u001b[0;34m)\u001b[0m\u001b[0;34m\u001b[0m\u001b[0;34m\u001b[0m\u001b[0m\n\u001b[0m",
      "\u001b[0;31mTypeError\u001b[0m: get_features_and_target() missing 2 required positional arguments: 'csv_file' and 'target_col'"
     ]
    }
   ],
   "source": [
    "f, t = get_features_and_target()"
   ]
  },
  {
   "cell_type": "markdown",
   "id": "7aa651cd-1ab3-4211-9253-263f5f15ea2e",
   "metadata": {
    "slideshow": {
     "slide_type": "slide"
    },
    "tags": []
   },
   "source": [
    "But we can still use it if we pass in those parameters:"
   ]
  },
  {
   "cell_type": "code",
   "execution_count": 9,
   "id": "7c5239ae-be56-42e7-a9fc-c36a084fef6c",
   "metadata": {},
   "outputs": [],
   "source": [
    "# In Python, linebreaks and spaces inside parentheses are ignored.\n",
    "f, t = get_features_and_target(\n",
    "    csv_file='../data/adult-census.csv',\n",
    "    target_col='class',\n",
    ")"
   ]
  },
  {
   "cell_type": "code",
   "execution_count": 10,
   "id": "35209624-3af9-45e3-b803-578570b76ea3",
   "metadata": {},
   "outputs": [
    {
     "data": {
      "text/html": [
       "<div>\n",
       "<style scoped>\n",
       "    .dataframe tbody tr th:only-of-type {\n",
       "        vertical-align: middle;\n",
       "    }\n",
       "\n",
       "    .dataframe tbody tr th {\n",
       "        vertical-align: top;\n",
       "    }\n",
       "\n",
       "    .dataframe thead th {\n",
       "        text-align: right;\n",
       "    }\n",
       "</style>\n",
       "<table border=\"1\" class=\"dataframe\">\n",
       "  <thead>\n",
       "    <tr style=\"text-align: right;\">\n",
       "      <th></th>\n",
       "      <th>age</th>\n",
       "      <th>education-num</th>\n",
       "      <th>capital-gain</th>\n",
       "      <th>capital-loss</th>\n",
       "      <th>hours-per-week</th>\n",
       "    </tr>\n",
       "  </thead>\n",
       "  <tbody>\n",
       "    <tr>\n",
       "      <th>0</th>\n",
       "      <td>25</td>\n",
       "      <td>7</td>\n",
       "      <td>0</td>\n",
       "      <td>0</td>\n",
       "      <td>40</td>\n",
       "    </tr>\n",
       "    <tr>\n",
       "      <th>1</th>\n",
       "      <td>38</td>\n",
       "      <td>9</td>\n",
       "      <td>0</td>\n",
       "      <td>0</td>\n",
       "      <td>50</td>\n",
       "    </tr>\n",
       "    <tr>\n",
       "      <th>2</th>\n",
       "      <td>28</td>\n",
       "      <td>12</td>\n",
       "      <td>0</td>\n",
       "      <td>0</td>\n",
       "      <td>40</td>\n",
       "    </tr>\n",
       "    <tr>\n",
       "      <th>3</th>\n",
       "      <td>44</td>\n",
       "      <td>10</td>\n",
       "      <td>7688</td>\n",
       "      <td>0</td>\n",
       "      <td>40</td>\n",
       "    </tr>\n",
       "    <tr>\n",
       "      <th>4</th>\n",
       "      <td>18</td>\n",
       "      <td>10</td>\n",
       "      <td>0</td>\n",
       "      <td>0</td>\n",
       "      <td>30</td>\n",
       "    </tr>\n",
       "  </tbody>\n",
       "</table>\n",
       "</div>"
      ],
      "text/plain": [
       "   age  education-num  capital-gain  capital-loss  hours-per-week\n",
       "0   25              7             0             0              40\n",
       "1   38              9             0             0              50\n",
       "2   28             12             0             0              40\n",
       "3   44             10          7688             0              40\n",
       "4   18             10             0             0              30"
      ]
     },
     "execution_count": 10,
     "metadata": {},
     "output_type": "execute_result"
    }
   ],
   "source": [
    "f.head()"
   ]
  },
  {
   "cell_type": "markdown",
   "id": "ad799973-7438-45f7-b41b-9aedea313403",
   "metadata": {
    "slideshow": {
     "slide_type": "slide"
    },
    "tags": []
   },
   "source": [
    "Now, imagine we want to build a model on the Ames data instead, using the \"Sale_Price\" column as our target..."
   ]
  },
  {
   "cell_type": "code",
   "execution_count": 11,
   "id": "9c0bd0af-8eeb-45fd-aa7f-bbfce9788841",
   "metadata": {},
   "outputs": [],
   "source": [
    "ames_features, ames_target = get_features_and_target(\n",
    "    csv_file='../data/ames.csv',\n",
    "    target_col='Sale_Price',\n",
    ")"
   ]
  },
  {
   "cell_type": "code",
   "execution_count": 12,
   "id": "a7211f46-69f9-4de2-831a-0e8c900e359d",
   "metadata": {
    "slideshow": {
     "slide_type": "fragment"
    },
    "tags": []
   },
   "outputs": [
    {
     "data": {
      "text/html": [
       "<div>\n",
       "<style scoped>\n",
       "    .dataframe tbody tr th:only-of-type {\n",
       "        vertical-align: middle;\n",
       "    }\n",
       "\n",
       "    .dataframe tbody tr th {\n",
       "        vertical-align: top;\n",
       "    }\n",
       "\n",
       "    .dataframe thead th {\n",
       "        text-align: right;\n",
       "    }\n",
       "</style>\n",
       "<table border=\"1\" class=\"dataframe\">\n",
       "  <thead>\n",
       "    <tr style=\"text-align: right;\">\n",
       "      <th></th>\n",
       "      <th>Lot_Frontage</th>\n",
       "      <th>Lot_Area</th>\n",
       "      <th>Year_Built</th>\n",
       "      <th>Year_Remod_Add</th>\n",
       "      <th>Mas_Vnr_Area</th>\n",
       "      <th>BsmtFin_SF_1</th>\n",
       "      <th>BsmtFin_SF_2</th>\n",
       "      <th>Bsmt_Unf_SF</th>\n",
       "      <th>Total_Bsmt_SF</th>\n",
       "      <th>First_Flr_SF</th>\n",
       "      <th>...</th>\n",
       "      <th>Open_Porch_SF</th>\n",
       "      <th>Enclosed_Porch</th>\n",
       "      <th>Three_season_porch</th>\n",
       "      <th>Screen_Porch</th>\n",
       "      <th>Pool_Area</th>\n",
       "      <th>Misc_Val</th>\n",
       "      <th>Mo_Sold</th>\n",
       "      <th>Year_Sold</th>\n",
       "      <th>Longitude</th>\n",
       "      <th>Latitude</th>\n",
       "    </tr>\n",
       "  </thead>\n",
       "  <tbody>\n",
       "    <tr>\n",
       "      <th>0</th>\n",
       "      <td>141</td>\n",
       "      <td>31770</td>\n",
       "      <td>1960</td>\n",
       "      <td>1960</td>\n",
       "      <td>112</td>\n",
       "      <td>2</td>\n",
       "      <td>0</td>\n",
       "      <td>441</td>\n",
       "      <td>1080</td>\n",
       "      <td>1656</td>\n",
       "      <td>...</td>\n",
       "      <td>62</td>\n",
       "      <td>0</td>\n",
       "      <td>0</td>\n",
       "      <td>0</td>\n",
       "      <td>0</td>\n",
       "      <td>0</td>\n",
       "      <td>5</td>\n",
       "      <td>2010</td>\n",
       "      <td>-93.619754</td>\n",
       "      <td>42.054035</td>\n",
       "    </tr>\n",
       "    <tr>\n",
       "      <th>1</th>\n",
       "      <td>80</td>\n",
       "      <td>11622</td>\n",
       "      <td>1961</td>\n",
       "      <td>1961</td>\n",
       "      <td>0</td>\n",
       "      <td>6</td>\n",
       "      <td>144</td>\n",
       "      <td>270</td>\n",
       "      <td>882</td>\n",
       "      <td>896</td>\n",
       "      <td>...</td>\n",
       "      <td>0</td>\n",
       "      <td>0</td>\n",
       "      <td>0</td>\n",
       "      <td>120</td>\n",
       "      <td>0</td>\n",
       "      <td>0</td>\n",
       "      <td>6</td>\n",
       "      <td>2010</td>\n",
       "      <td>-93.619756</td>\n",
       "      <td>42.053014</td>\n",
       "    </tr>\n",
       "    <tr>\n",
       "      <th>2</th>\n",
       "      <td>81</td>\n",
       "      <td>14267</td>\n",
       "      <td>1958</td>\n",
       "      <td>1958</td>\n",
       "      <td>108</td>\n",
       "      <td>1</td>\n",
       "      <td>0</td>\n",
       "      <td>406</td>\n",
       "      <td>1329</td>\n",
       "      <td>1329</td>\n",
       "      <td>...</td>\n",
       "      <td>36</td>\n",
       "      <td>0</td>\n",
       "      <td>0</td>\n",
       "      <td>0</td>\n",
       "      <td>0</td>\n",
       "      <td>12500</td>\n",
       "      <td>6</td>\n",
       "      <td>2010</td>\n",
       "      <td>-93.619387</td>\n",
       "      <td>42.052659</td>\n",
       "    </tr>\n",
       "    <tr>\n",
       "      <th>3</th>\n",
       "      <td>93</td>\n",
       "      <td>11160</td>\n",
       "      <td>1968</td>\n",
       "      <td>1968</td>\n",
       "      <td>0</td>\n",
       "      <td>1</td>\n",
       "      <td>0</td>\n",
       "      <td>1045</td>\n",
       "      <td>2110</td>\n",
       "      <td>2110</td>\n",
       "      <td>...</td>\n",
       "      <td>0</td>\n",
       "      <td>0</td>\n",
       "      <td>0</td>\n",
       "      <td>0</td>\n",
       "      <td>0</td>\n",
       "      <td>0</td>\n",
       "      <td>4</td>\n",
       "      <td>2010</td>\n",
       "      <td>-93.617320</td>\n",
       "      <td>42.051245</td>\n",
       "    </tr>\n",
       "    <tr>\n",
       "      <th>4</th>\n",
       "      <td>74</td>\n",
       "      <td>13830</td>\n",
       "      <td>1997</td>\n",
       "      <td>1998</td>\n",
       "      <td>0</td>\n",
       "      <td>3</td>\n",
       "      <td>0</td>\n",
       "      <td>137</td>\n",
       "      <td>928</td>\n",
       "      <td>928</td>\n",
       "      <td>...</td>\n",
       "      <td>34</td>\n",
       "      <td>0</td>\n",
       "      <td>0</td>\n",
       "      <td>0</td>\n",
       "      <td>0</td>\n",
       "      <td>0</td>\n",
       "      <td>3</td>\n",
       "      <td>2010</td>\n",
       "      <td>-93.638933</td>\n",
       "      <td>42.060899</td>\n",
       "    </tr>\n",
       "  </tbody>\n",
       "</table>\n",
       "<p>5 rows × 34 columns</p>\n",
       "</div>"
      ],
      "text/plain": [
       "   Lot_Frontage  Lot_Area  Year_Built  Year_Remod_Add  Mas_Vnr_Area  \\\n",
       "0           141     31770        1960            1960           112   \n",
       "1            80     11622        1961            1961             0   \n",
       "2            81     14267        1958            1958           108   \n",
       "3            93     11160        1968            1968             0   \n",
       "4            74     13830        1997            1998             0   \n",
       "\n",
       "   BsmtFin_SF_1  BsmtFin_SF_2  Bsmt_Unf_SF  Total_Bsmt_SF  First_Flr_SF  ...  \\\n",
       "0             2             0          441           1080          1656  ...   \n",
       "1             6           144          270            882           896  ...   \n",
       "2             1             0          406           1329          1329  ...   \n",
       "3             1             0         1045           2110          2110  ...   \n",
       "4             3             0          137            928           928  ...   \n",
       "\n",
       "   Open_Porch_SF  Enclosed_Porch  Three_season_porch  Screen_Porch  Pool_Area  \\\n",
       "0             62               0                   0             0          0   \n",
       "1              0               0                   0           120          0   \n",
       "2             36               0                   0             0          0   \n",
       "3              0               0                   0             0          0   \n",
       "4             34               0                   0             0          0   \n",
       "\n",
       "   Misc_Val  Mo_Sold  Year_Sold  Longitude   Latitude  \n",
       "0         0        5       2010 -93.619754  42.054035  \n",
       "1         0        6       2010 -93.619756  42.053014  \n",
       "2     12500        6       2010 -93.619387  42.052659  \n",
       "3         0        4       2010 -93.617320  42.051245  \n",
       "4         0        3       2010 -93.638933  42.060899  \n",
       "\n",
       "[5 rows x 34 columns]"
      ]
     },
     "execution_count": 12,
     "metadata": {},
     "output_type": "execute_result"
    }
   ],
   "source": [
    "ames_features.head()"
   ]
  },
  {
   "cell_type": "markdown",
   "id": "33481d5d-92fa-4b3e-a8b4-2f075847cd52",
   "metadata": {
    "slideshow": {
     "slide_type": "slide"
    },
    "tags": []
   },
   "source": [
    "We've successfully **abstracted** some of our code logic, moving it to a separate function that we can use without having to think too much about how it works.\n",
    "\n",
    "This is the foundation of building larger projects in Python."
   ]
  },
  {
   "cell_type": "markdown",
   "id": "aec7e39a-a6d1-47d9-a8e3-fb6d4659ef58",
   "metadata": {
    "slideshow": {
     "slide_type": "slide"
    },
    "tags": []
   },
   "source": [
    "## Example: Files\n",
    "\n",
    "As we write more and more functions, it can be nice to move them outside of the script or notebook where we're currently working.\n",
    "\n",
    "Let's move our new function into its own file, or **module**, and then use it from Jupyter."
   ]
  },
  {
   "cell_type": "markdown",
   "id": "92db7ba2-987d-4421-b1b5-d3b88cf10c0b",
   "metadata": {
    "slideshow": {
     "slide_type": "slide"
    },
    "tags": []
   },
   "source": [
    "We'll start by creating a new text file in Jupyter:\n",
    "\n",
    "![New Text File](images/new-text-file.png)"
   ]
  },
  {
   "cell_type": "markdown",
   "id": "486d1858-ba21-493c-8589-e8b28a1d92f8",
   "metadata": {
    "slideshow": {
     "slide_type": "slide"
    },
    "tags": []
   },
   "source": [
    "Then we'll give our new module a sensible name. Right-click on the `untitled.txt` tab and rename it to `my_module.py`.\n",
    "\n",
    "Don't forget to make sure it ends in `.py`, not `.txt`!\n",
    "\n",
    "![Rename Script](images/rename-script.png)"
   ]
  },
  {
   "cell_type": "markdown",
   "id": "2dd4a1ab-73ac-45d5-b8dd-b775494aa6ea",
   "metadata": {
    "slideshow": {
     "slide_type": "slide"
    },
    "tags": []
   },
   "source": [
    "Then paste the function we wrote, along with lines to import numpy and pandas:\n",
    "\n",
    "![My Module](images/my-module.png)\n",
    "\n",
    "Save the file and close the `my_module.py` tab."
   ]
  },
  {
   "cell_type": "markdown",
   "id": "8831a2d5-2c41-4ec4-a02a-ab410b22e0ce",
   "metadata": {
    "slideshow": {
     "slide_type": "slide"
    },
    "tags": []
   },
   "source": [
    "Notice how that file is now in your sidebar:\n",
    "\n",
    "![Sidebar](images/sidebar-script.png)"
   ]
  },
  {
   "cell_type": "markdown",
   "id": "c9796596-539f-45a6-bc99-5d0cbfb15795",
   "metadata": {
    "slideshow": {
     "slide_type": "slide"
    },
    "tags": []
   },
   "source": [
    "Now that our module is saved, we can import it in any notebook (or script) that's saved in the same folder as the module."
   ]
  },
  {
   "cell_type": "code",
   "execution_count": 13,
   "id": "39f0e643-9702-4bd0-92ff-f0a942678413",
   "metadata": {},
   "outputs": [],
   "source": [
    "import my_module"
   ]
  },
  {
   "cell_type": "code",
   "execution_count": 14,
   "id": "cde0043e-bbb4-4253-88d7-e2eb97916d78",
   "metadata": {
    "tags": [
     "ci-skip"
    ]
   },
   "outputs": [
    {
     "data": {
      "text/plain": [
       "\u001b[0;31mSignature:\u001b[0m \u001b[0mmy_module\u001b[0m\u001b[0;34m.\u001b[0m\u001b[0mget_features_and_target\u001b[0m\u001b[0;34m(\u001b[0m\u001b[0mcsv_file\u001b[0m\u001b[0;34m,\u001b[0m \u001b[0mtarget_col\u001b[0m\u001b[0;34m)\u001b[0m\u001b[0;34m\u001b[0m\u001b[0;34m\u001b[0m\u001b[0m\n",
       "\u001b[0;31mDocstring:\u001b[0m Split a CSV into a DF of numeric features and a target column.\n",
       "\u001b[0;31mFile:\u001b[0m      ~/Teaching/advanced-python-datasci/notebooks/my_module.py\n",
       "\u001b[0;31mType:\u001b[0m      function\n"
      ]
     },
     "metadata": {},
     "output_type": "display_data"
    }
   ],
   "source": [
    "my_module.get_features_and_target?"
   ]
  },
  {
   "cell_type": "code",
   "execution_count": 16,
   "id": "eca99ff9-44c8-4264-8fb0-79e22b2f8034",
   "metadata": {
    "slideshow": {
     "slide_type": "slide"
    },
    "tags": []
   },
   "outputs": [],
   "source": [
    "f, t = my_module.get_features_and_target(\n",
    "    csv_file='../data/adult-census.csv',\n",
    "    target_col='class',\n",
    ")"
   ]
  },
  {
   "cell_type": "code",
   "execution_count": 17,
   "id": "28a8765e-1ba3-4d2c-8f90-3e7d9b9f3254",
   "metadata": {},
   "outputs": [
    {
     "data": {
      "text/html": [
       "<div>\n",
       "<style scoped>\n",
       "    .dataframe tbody tr th:only-of-type {\n",
       "        vertical-align: middle;\n",
       "    }\n",
       "\n",
       "    .dataframe tbody tr th {\n",
       "        vertical-align: top;\n",
       "    }\n",
       "\n",
       "    .dataframe thead th {\n",
       "        text-align: right;\n",
       "    }\n",
       "</style>\n",
       "<table border=\"1\" class=\"dataframe\">\n",
       "  <thead>\n",
       "    <tr style=\"text-align: right;\">\n",
       "      <th></th>\n",
       "      <th>age</th>\n",
       "      <th>education-num</th>\n",
       "      <th>capital-gain</th>\n",
       "      <th>capital-loss</th>\n",
       "      <th>hours-per-week</th>\n",
       "    </tr>\n",
       "  </thead>\n",
       "  <tbody>\n",
       "    <tr>\n",
       "      <th>0</th>\n",
       "      <td>25</td>\n",
       "      <td>7</td>\n",
       "      <td>0</td>\n",
       "      <td>0</td>\n",
       "      <td>40</td>\n",
       "    </tr>\n",
       "    <tr>\n",
       "      <th>1</th>\n",
       "      <td>38</td>\n",
       "      <td>9</td>\n",
       "      <td>0</td>\n",
       "      <td>0</td>\n",
       "      <td>50</td>\n",
       "    </tr>\n",
       "    <tr>\n",
       "      <th>2</th>\n",
       "      <td>28</td>\n",
       "      <td>12</td>\n",
       "      <td>0</td>\n",
       "      <td>0</td>\n",
       "      <td>40</td>\n",
       "    </tr>\n",
       "    <tr>\n",
       "      <th>3</th>\n",
       "      <td>44</td>\n",
       "      <td>10</td>\n",
       "      <td>7688</td>\n",
       "      <td>0</td>\n",
       "      <td>40</td>\n",
       "    </tr>\n",
       "    <tr>\n",
       "      <th>4</th>\n",
       "      <td>18</td>\n",
       "      <td>10</td>\n",
       "      <td>0</td>\n",
       "      <td>0</td>\n",
       "      <td>30</td>\n",
       "    </tr>\n",
       "  </tbody>\n",
       "</table>\n",
       "</div>"
      ],
      "text/plain": [
       "   age  education-num  capital-gain  capital-loss  hours-per-week\n",
       "0   25              7             0             0              40\n",
       "1   38              9             0             0              50\n",
       "2   28             12             0             0              40\n",
       "3   44             10          7688             0              40\n",
       "4   18             10             0             0              30"
      ]
     },
     "execution_count": 17,
     "metadata": {},
     "output_type": "execute_result"
    }
   ],
   "source": [
    "f.head()"
   ]
  },
  {
   "cell_type": "markdown",
   "id": "21e629c7-202d-4201-b08d-cdb3b7a7c310",
   "metadata": {
    "slideshow": {
     "slide_type": "fragment"
    },
    "tags": []
   },
   "source": [
    "Notice that we call our function as `my_module.get_features_and_target`, not just `get_features_and_target`.\n",
    "\n",
    "<div class=\"admonition note alert alert-info\">\n",
    "    <b><p class=\"first admonition-title\" style=\"font-weight: bold;\">Discussion</p></b>\n",
    "    Does this syntax remind you of anything we've seen before?\n",
    "</div>"
   ]
  },
  {
   "cell_type": "markdown",
   "id": "8091578a-ae4b-49a7-94e1-e2af53f0f7fb",
   "metadata": {
    "slideshow": {
     "slide_type": "slide"
    },
    "tags": []
   },
   "source": [
    "Ultimately, modules you create aren't any different from numpy, pandas, or any other Python libraries.\n",
    "You can build them and use them just the same way.\n",
    "\n",
    "It's a good idea to put related functions into a module, which you can then reuse within a project or even across different projects."
   ]
  },
  {
   "cell_type": "markdown",
   "id": "84b8caf1-a5ed-4c59-91d7-218842767182",
   "metadata": {
    "slideshow": {
     "slide_type": "slide"
    },
    "tags": []
   },
   "source": [
    "## Committing to GitHub\n",
    "\n",
    "Before we end this section, let's commit our code so far to GitHub."
   ]
  },
  {
   "cell_type": "markdown",
   "id": "63206154-7760-4f8b-8787-94a5cd44623c",
   "metadata": {
    "slideshow": {
     "slide_type": "slide"
    },
    "tags": []
   },
   "source": [
    "Open GitHub Desktop.\n",
    "It should show you what files you've added and changed in the project.\n",
    "In the *summary* box, write a message that encapsulates what we've done so far.\n",
    "\n",
    "![Commit](images/commit.png)"
   ]
  },
  {
   "cell_type": "markdown",
   "id": "5fa4a35f-a8cf-4eb9-a672-60eceb8e3a93",
   "metadata": {},
   "source": [
    "Then press \"Commit to **main**\"."
   ]
  },
  {
   "cell_type": "markdown",
   "id": "755085d2-f89e-413e-8905-69550f056e66",
   "metadata": {
    "slideshow": {
     "slide_type": "slide"
    },
    "tags": []
   },
   "source": [
    "At this point, we've *committed* our code but haven't synced it with GitHub.\n",
    "GitHub Desktop will inform us that we need to \"push\" our new commit:\n",
    "\n",
    "![Push](images/push-origin.png)\n",
    "\n",
    "Click the \"Push Origin\" button. Done!"
   ]
  },
  {
   "cell_type": "markdown",
   "id": "7a5ec477-5b33-431b-925b-a0a2eb48b05a",
   "metadata": {},
   "source": [
    "If you go to your *advanced-python-datasci* repo in GitHub, you should see your new files!"
   ]
  },
  {
   "cell_type": "markdown",
   "id": "019b0e01",
   "metadata": {
    "slideshow": {
     "slide_type": "slide"
    }
   },
   "source": [
    "## Questions\n",
    "\n",
    "Are there any questions before we move on?"
   ]
  }
 ],
 "metadata": {
  "kernelspec": {
   "display_name": "uc-python",
   "language": "python",
   "name": "python3"
  },
  "language_info": {
   "codemirror_mode": {
    "name": "ipython",
    "version": 3
   },
   "file_extension": ".py",
   "mimetype": "text/x-python",
   "name": "python",
   "nbconvert_exporter": "python",
   "pygments_lexer": "ipython3",
   "version": "3.11.7"
  }
 },
 "nbformat": 4,
 "nbformat_minor": 5
}
