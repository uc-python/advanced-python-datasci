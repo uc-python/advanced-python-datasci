{
 "cells": [
  {
   "cell_type": "markdown",
   "metadata": {
    "slideshow": {
     "slide_type": "slide"
    },
    "tags": []
   },
   "source": [
    "# Git and GitHub"
   ]
  },
  {
   "cell_type": "markdown",
   "metadata": {
    "jp-MarkdownHeadingCollapsed": true,
    "slideshow": {
     "slide_type": "slide"
    },
    "tags": []
   },
   "source": [
    "## Lesson Goals\n",
    "- Understand the purpose of version control systems\n",
    "- Create a GitHub account\n",
    "- Upload your first code to GitHub"
   ]
  },
  {
   "cell_type": "markdown",
   "metadata": {
    "tags": []
   },
   "source": [
    "## Prerequisites\n",
    "- None"
   ]
  },
  {
   "cell_type": "markdown",
   "metadata": {
    "slideshow": {
     "slide_type": "slide"
    },
    "tags": []
   },
   "source": [
    "## Code Management\n",
    "\n",
    "Some new considerations come up as we build larger projects that eventually go into production..."
   ]
  },
  {
   "cell_type": "markdown",
   "metadata": {
    "slideshow": {
     "slide_type": "fragment"
    },
    "tags": []
   },
   "source": [
    "- What happens if our computer breaks or is lost? Will we lose all of our code?"
   ]
  },
  {
   "cell_type": "markdown",
   "metadata": {
    "slideshow": {
     "slide_type": "fragment"
    },
    "tags": []
   },
   "source": [
    "- What if we make changes to our code that we later want to roll back? For example, trying a different method of cleaning our data and eventually discovering that it yields worse results."
   ]
  },
  {
   "cell_type": "markdown",
   "metadata": {
    "slideshow": {
     "slide_type": "fragment"
    },
    "tags": []
   },
   "source": [
    "- How do multiple people work on the same project without sending files back and forth, and stepping on each others' toes?"
   ]
  },
  {
   "cell_type": "markdown",
   "metadata": {},
   "source": [
    "<div class=\"admonition note alert alert-info\">\n",
    "    <b><p class=\"first admonition-title\" style=\"font-weight: bold;\">Discussion</p></b>\n",
    "    Has anyone faced problems like these before?\n",
    "</div>"
   ]
  },
  {
   "cell_type": "markdown",
   "metadata": {
    "slideshow": {
     "slide_type": "slide"
    },
    "tags": []
   },
   "source": [
    "## Version Control Systems (VCS)\n",
    "The most common industry solution is a **Version Control System**, which:\n",
    "- Provides a backup of your code on a separate computer\n",
    "- Tracks every change made to the code, allowing you to see when certain code was updated and to roll back to an earlier state if necessary\n",
    "- Helps with collaboration by letting contributors work on different things in parallel and then \"merge\" their changes together later"
   ]
  },
  {
   "cell_type": "markdown",
   "metadata": {
    "slideshow": {
     "slide_type": "fragment"
    },
    "tags": []
   },
   "source": [
    "Typically, an organization will have one central VCS where all projects are managed."
   ]
  },
  {
   "cell_type": "markdown",
   "metadata": {
    "slideshow": {
     "slide_type": "slide"
    },
    "tags": []
   },
   "source": [
    "## Common VCS Options"
   ]
  },
  {
   "cell_type": "markdown",
   "metadata": {},
   "source": [
    "Far and away the most popular VCS tool is Git, which is notable for its scalability and performance.\n",
    "\n",
    "Unfortunately, it's often challenging for beginners; its interface can be overwhelming."
   ]
  },
  {
   "cell_type": "markdown",
   "metadata": {
    "slideshow": {
     "slide_type": "fragment"
    },
    "tags": []
   },
   "source": [
    "Other VCSes exist, and were more common until Git became dominant around 2010.\n",
    "You may have heard of these or even used them:\n",
    "- Mercurial\n",
    "- Subversion"
   ]
  },
  {
   "cell_type": "markdown",
   "metadata": {
    "slideshow": {
     "slide_type": "slide"
    },
    "tags": []
   },
   "source": [
    "## Git and GitHub\n",
    "Git is generally used in tandem with a website where your code can be kept, viewed, and managed.\n",
    "There are several, but the most commonly used site is **GitHub**."
   ]
  },
  {
   "cell_type": "markdown",
   "metadata": {
    "slideshow": {
     "slide_type": "fragment"
    },
    "tags": []
   },
   "source": [
    "Not only does GitHub provide a good interface for viewing code, it also features:\n",
    "- Project management tools\n",
    "- Collaboration tools\n",
    "\n",
    "Both of which are tightly integrated with your code -- very convenient for developer and data science teams.\n",
    "\n",
    "GitHub offers most of its tools for free and has become the home of most popular open source projects (such as Python itself and the pandas library)."
   ]
  },
  {
   "cell_type": "markdown",
   "metadata": {
    "slideshow": {
     "slide_type": "fragment"
    },
    "tags": []
   },
   "source": [
    "<div class=\"admonition note alert alert-info\">\n",
    "    <b><p class=\"first admonition-title\" style=\"font-weight: bold;\">Note</p></b>\n",
    "    There are competing services to GitHub, such as <em>GitLab</em> and <em>Bitbucket</em>, but GitHub is by far the most popular tool -- to the point that employers sometimes ask for your GitHub profile to see your portfolio.\n",
    "</div>"
   ]
  },
  {
   "cell_type": "markdown",
   "metadata": {
    "slideshow": {
     "slide_type": "slide"
    },
    "tags": []
   },
   "source": [
    "## Creating a GitHub Account\n",
    "\n",
    "*(If you already have a GitHub account, you may skip these steps. Just log into your account so we can push code to it later.)*"
   ]
  },
  {
   "cell_type": "markdown",
   "metadata": {
    "slideshow": {
     "slide_type": "fragment"
    },
    "tags": []
   },
   "source": [
    "1. Go to `github.com` and find the **Sign Up** button.\n",
    "  - When prompted, enter your email address, a new password, and a username\n",
    "  - This username will be your identifier on GitHub, so make sure you'd be comfortable sharing it with an employer or colleague\n",
    "2. You may then need to solve a Captcha-like puzzle and verify your email address. Do so.\n",
    "\n",
    "3. Once the account is created, you may be asked whether to create a new project, or \"repository\". We'll do that, but not yet!"
   ]
  },
  {
   "cell_type": "markdown",
   "metadata": {
    "slideshow": {
     "slide_type": "slide"
    },
    "tags": []
   },
   "source": [
    "## GitHub Tour\n",
    "\n",
    "*Demo of Profile and Repos*"
   ]
  },
  {
   "cell_type": "markdown",
   "metadata": {
    "slideshow": {
     "slide_type": "slide"
    },
    "tags": []
   },
   "source": [
    "## Repositories\n",
    "\n",
    "- As we saw, repositories are just projects.\n",
    "- For short, we usually call them **repos**.\n",
    "- Generally, it's good to have a unique repository in GitHub for every project you work on.\n",
    "- Let's create a repo for the code we write in this workshop!"
   ]
  },
  {
   "cell_type": "markdown",
   "id": "803ff344",
   "metadata": {
    "slideshow": {
     "slide_type": "slide"
    }
   },
   "source": [
    "## Creating a Repo\n",
    "\n",
    "1. Go back to GitHub.\n",
    "2. If today is the first time you've used GitHub, the site may immediately prompt you to create a repo. If so, click that.\n",
    "    - If not, look in the left sidebar for a \"New\" button and click that -- it should take you to a repo creation page.\n",
    "3. In the _Name_ field enter \"advanced-python-datasci\", and in the _Description_ enter \"Working through the Advanced Python for Data Science workshop\".\n",
    "4. There are three boxes below; check the first two. Those should be \"Add a readme\" and \"Add a gitignore\".\n",
    "    - The gitignore checkbox should show a dropdown below it, \"gitignore template\". Look through that list and select _Python_.\n",
    "5. Then press the \"Create Repository\" button!"
   ]
  },
  {
   "cell_type": "markdown",
   "id": "92d0d89e",
   "metadata": {
    "slideshow": {
     "slide_type": "slide"
    }
   },
   "source": [
    "<img src=\"images/create-repo.png\" alt=\"Create a Repo\"/>"
   ]
  },
  {
   "cell_type": "markdown",
   "metadata": {
    "slideshow": {
     "slide_type": "slide"
    },
    "tags": []
   },
   "source": [
    "## GitHub Desktop\n",
    "\n",
    "Next, we'll download a piece of software from GitHub that handles syncing our code with our repository: *GitHub Desktop*\n",
    "\n",
    "_Note: if you're already comfortable using Git from the command line, you can skip this part; just clone the repo we've created as we'll be using it for the rest of the workshop._\n",
    "\n",
    "1. Go to https://desktop.github.com and download the application.\n",
    "2. Once it's downloaded and installed, open it.\n",
    "    "
   ]
  },
  {
   "cell_type": "markdown",
   "metadata": {
    "slideshow": {
     "slide_type": "slide"
    },
    "tags": []
   },
   "source": [
    "## Connecting Our Repo to GH Desktop\n",
    "\n",
    "The last bit of direction-following!"
   ]
  },
  {
   "cell_type": "markdown",
   "metadata": {
    "slideshow": {
     "slide_type": "slide"
    },
    "tags": []
   },
   "source": [
    "1. In GitHub Desktop, you should see an option like _Clone a Repository from the Internet..._. Click this.\n",
    "2. At this point, the application should prompt you to sign into GitHub. Follow its instructions to do so, which may involve it redirecting you to the browser.\n",
    "3. Once done signing in, you may have to press _Clone a Repository from the Internet..._ again.\n",
    "4. Choose the _advanced-python-datasci_ project we just created.\n",
    "  - Optionally, you may change the _Local Path_ -- this is where the repository will be saved on your computer. You'll need to be able to open the code here in JupyterLab, so if you're more comfortable keeping your code somewhere else, change this to a different location on your computer.\n",
    "5. Then press <em>Clone</em> to pull down the repository we created."
   ]
  },
  {
   "cell_type": "markdown",
   "id": "b5f2197b",
   "metadata": {
    "slideshow": {
     "slide_type": "slide"
    }
   },
   "source": [
    "<img src=\"images/clone-repo.png\" alt=\"Clone a Repository\"/>"
   ]
  },
  {
   "cell_type": "markdown",
   "metadata": {
    "slideshow": {
     "slide_type": "slide"
    },
    "tags": []
   },
   "source": [
    "Congrats! You've set up your first GitHub repository, and now you're ready to work in it."
   ]
  },
  {
   "cell_type": "markdown",
   "id": "ef6fb25d",
   "metadata": {
    "slideshow": {
     "slide_type": "slide"
    }
   },
   "source": [
    "## Questions\n",
    "\n",
    "Are there any questions before we move on?"
   ]
  }
 ],
 "metadata": {
  "kernelspec": {
   "display_name": "uc-python",
   "language": "python",
   "name": "uc-python"
  },
  "language_info": {
   "codemirror_mode": {
    "name": "ipython",
    "version": 3
   },
   "file_extension": ".py",
   "mimetype": "text/x-python",
   "name": "python",
   "nbconvert_exporter": "python",
   "pygments_lexer": "ipython3",
   "version": "3.9.1"
  }
 },
 "nbformat": 4,
 "nbformat_minor": 5
}
