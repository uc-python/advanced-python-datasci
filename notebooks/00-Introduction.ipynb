{
 "cells": [
  {
   "cell_type": "markdown",
   "metadata": {
    "slideshow": {
     "slide_type": "slide"
    }
   },
   "source": [
    "# Advanced Python for Data Science\n",
    "\n",
    "Gus Powers and Jay Cunningham\n",
    "\n",
    "January 2023"
   ]
  },
  {
   "cell_type": "markdown",
   "metadata": {
    "slideshow": {
     "slide_type": "slide"
    }
   },
   "source": [
    "## Introductions"
   ]
  },
  {
   "cell_type": "markdown",
   "metadata": {},
   "source": [
    "## Gus Powers\n",
    "<table><tr>\n",
    "  <td><img width=\"300\" src=\"images/gus.jpg\"></td>\n",
    "  <td>\n",
    "    <h3><strong>Lead Data Scientist</strong> at 84.51&deg;</h3>\n",
    "    <ul>\n",
    "      <li>Creating and maintaining data science tools for internal use</li>\n",
    "      <li>Python, Bash (shell), & R</li>\n",
    "    </ul>\n",
    "    <h4>Academic</h4>\n",
    "    <ul>\n",
    "      <li>BS, Chemistry, Thomas More College</li>\n",
    "      <li>MS, Chemistry, University of Cincinnati</li>\n",
    "      <li>MS, Business Analytics, University of Cincinnati</li>\n",
    "    </ul>\n",
    "    <h4>Contact</h4>\n",
    "    <ul>\n",
    "      <li>GitHub: <a href=\"https://github.com/augustopher\">augustopher</a></li>\n",
    "      <li>LinkedIn: <a href=\"https://www.linkedin.com/in/august-powers-09717481/\">August Powers</a></li>\n",
    "      <li>Email: <a href=\"mailto:guspowers0@gmail.com\">guspowers0@gmail.com</a></li>\n",
    "    </ul>\n",
    "    </td>\n",
    "</tr></table>"
   ]
  },
  {
   "cell_type": "markdown",
   "metadata": {},
   "source": [
    "## Jay Cunningham\n",
    "<table><tr>\n",
    "  <td><img width=\"300\" src=\"images/jay.jpg\"></td>\n",
    "  <td>\n",
    "    <h3><strong>Lead Data Scientist</strong> at 84.51&deg;</h3>\n",
    "    <ul>\n",
    "      <li>Researching and developing forecasting models</li>\n",
    "      <li>Machine learning, Python</li>\n",
    "    </ul>\n",
    "    <h4>Academic</h4>\n",
    "    <ul>\n",
    "        <li>BA, Mathematics, University of Kentucky</li>\n",
    "        <li>MA, Economics, University of North Carolina (Greensboro)</li>\n",
    "    </ul>\n",
    "    <h4>Contact</h4>\n",
    "    <ul>\n",
    "      <li>LinkedIn: <a href=\"https://www.linkedin.com/mwlite/in/jay-cunningham-60612886\">Jay Cunningham</a></li>\n",
    "      <li>Email: <a href=\"mailto:james@notbadafterall.com\">james@notbadafterall.com</a></li>\n",
    "    </ul>\n",
    "    </td>\n",
    "</tr></table>"
   ]
  },
  {
   "cell_type": "markdown",
   "metadata": {
    "slideshow": {
     "slide_type": "skip"
    }
   },
   "source": [
    "## Brad Boehmke\n",
    "<table><tr>\n",
    "    <td><img width=\"300\" src=\"images/brad.jpg\"></td>\n",
    "    <td>\n",
    "      <h4><strong>Director, Data Science</strong> at 84.51&deg;</h4>\n",
    "      <ul>\n",
    "        <li>Productionizing models and science solutions</li>\n",
    "        <li>R&D and protogyping new solutions</li>\n",
    "        <li>Python, R, & MLOps toolchain</li>\n",
    "      </ul>\n",
    "      <h4>Academic</h4>\n",
    "      <ul>\n",
    "          <li>BS, Kinesiology, North Dakota State University</li>\n",
    "          <li>MS, Cost Analytics, Air Force Institute of Technology</li>\n",
    "          <li>PhD, Logistics, Air Force Institute of Technology</li>\n",
    "      </ul>\n",
    "      <h4>Contact</h4>\n",
    "      <ul>\n",
    "          <li>Website: <a href=\"http://bradleyboehmke.github.io/\">bradleyboehmke.github.io</a></li>\n",
    "          <li>GitHub: <a href=\"https://github.com/bradleyboehmke\">bradleyboehmke</a></li>\n",
    "          <li>Twitter: <a href=\"https://twitter.com/bradleyboehmke\">@bradleyboehmke</a></li>\n",
    "          <li>LinkedIn: <a href=\"https://www.linkedin.com/in/brad-boehmke-ph-d-9b0a257\">Brad Boehmke, PhD</a></li>\n",
    "          <li>Email: <a href=\"mailto:bradleyboehmke@gmail.com\">bradleyboehmke@gmail.com</a></li>\n",
    "      </ul>\n",
    "    </td>\n",
    "</tr></table>"
   ]
  },
  {
   "cell_type": "markdown",
   "metadata": {
    "cell_style": "split",
    "slideshow": {
     "slide_type": "skip"
    }
   },
   "source": [
    "## Ethan Swan\n",
    "<table><tr>\n",
    "  <td><img width=\"300\" src=\"images/ethan.jpg\"></td>\n",
    "  <td>\n",
    "    <h4><strong>Senior Backend Engineer</strong> at ReviewTrackers</h4>\n",
    "    <ul>\n",
    "      <li>Rest API development</li>\n",
    "      <li>Putting ML models in production</li>\n",
    "      <li>Python, Go, Ruby, & ReactJS (JavaScript)</li>\n",
    "    </ul>\n",
    "    <h4>Academic</h4>\n",
    "    <ul>\n",
    "        <li>BS, Computer Science, University of Notre Dame</li>\n",
    "        <li>MBA, Business Analytics, University of Notre Dame</li>\n",
    "    </ul>\n",
    "    <h4>Contact</h4>\n",
    "    <ul>\n",
    "        <li>Website: <a href=\"https://ethanswan.com\">ethanswan.com</a></li>\n",
    "        <li>GitHub: <a href=\"https://github.com/eswan18/\">eswan18</a></li>\n",
    "        <li>Twitter: <a href=\"https://twitter.com/eswan18\">@eswan18</a></li>\n",
    "        <li>LinkedIn: <a href=\"https://linkedin.com/in/ethanpswan\">Ethan Swan</a></li>\n",
    "        <li>Email: <a href=\"mailto:ethanpswan@gmail.com\">ethanpswan@gmail.com</a></li>\n",
    "    </ul>\n",
    "    </td>\n",
    "</tr></table>"
   ]
  },
  {
   "cell_type": "markdown",
   "metadata": {
    "slideshow": {
     "slide_type": "slide"
    }
   },
   "source": [
    "## Your Turn\n",
    "\n",
    "We'll go around the room. Please share:\n",
    "- Your name\n",
    "- Your job or field\n",
    "- How you use Python now or would like to in the future"
   ]
  },
  {
   "cell_type": "markdown",
   "metadata": {
    "slideshow": {
     "slide_type": "slide"
    }
   },
   "source": [
    "## Course"
   ]
  },
  {
   "cell_type": "markdown",
   "metadata": {
    "slideshow": {
     "slide_type": "slide"
    }
   },
   "source": [
    "## Course Objectives\n",
    "\n",
    "The following are the primary learning objectives of this course:"
   ]
  },
  {
   "cell_type": "markdown",
   "metadata": {
    "slideshow": {
     "slide_type": "fragment"
    }
   },
   "source": [
    "- Develop an intuition for the machine learning workflow and Python tooling."
   ]
  },
  {
   "cell_type": "markdown",
   "metadata": {
    "slideshow": {
     "slide_type": "fragment"
    }
   },
   "source": [
    "- Build familiarity with common software engineering tooling and methodologies for implementing a machine learning project."
   ]
  },
  {
   "cell_type": "markdown",
   "metadata": {
    "slideshow": {
     "slide_type": "fragment"
    }
   },
   "source": [
    "- Gain hands-on experience with the tools and processes discussed with applied case study work."
   ]
  },
  {
   "cell_type": "markdown",
   "metadata": {
    "slideshow": {
     "slide_type": "slide"
    }
   },
   "source": [
    "## Course Agenda"
   ]
  },
  {
   "cell_type": "markdown",
   "metadata": {
    "slideshow": {
     "slide_type": "slide"
    }
   },
   "source": [
    "| Day | Topic                                                                          |     Time      |\n",
    "| :-: | :----------------------------------------------------------------------------- | :-----------: |\n",
    "|  1  | Introductions                                                                  | 12:45 -  1:00 |\n",
    "|     | Setting the Stage                                                              |  1:00 -  1:15 |\n",
    "|     | Git & version control                                                          |  1:15 -  2:00 |\n",
    "|     | Break                                                                          |  2:00 -  2:15 |\n",
    "|     | EDA & Our First scikit-learn Model                                             |  2:15 -  3:45 |\n",
    "|     | Q&A                                                                            |  3:45 -  4:15 |\n",
    "|  2  | Q&A                                                                            | 12:45 -  1:00 |\n",
    "|     | Modular Code                                                                   |  1:00 -  2:00 |\n",
    "|     | Feature Engineering                                                            |  2:00 -  3:00 |\n",
    "|     | Break                                                                          |  3:00 -  3:15 |\n",
    "|     | Case Study, pt. 1                                                              |  3:15 -  4:00 |\n",
    "|     | Q&A                                                                            |  4:00 -  4:15 |\n",
    "|  3  | Q&A                                                                            | 12:45 -  1:00 |\n",
    "|     | Model Evaluation & Selection                                                   |  1:00 -  2:15 |\n",
    "|     | Break                                                                          |  2:15 -  2:30 |\n",
    "|     | More on Modular Code                                                           |  2:30 -  3:15 |\n",
    "|     | Unit Tests                                                                     |  3:15 -  4:00 |\n",
    "|     | Q&A                                                                            |  4:00 -  4:15 |\n",
    "|  4  | Q&A                                                                            | 12:45 -  1:00 |\n",
    "|     | More on Unit Tests                                                             |  1:00 -  1:30 |\n",
    "|     | ML lifecycle management                                                        |  1:30 -  2:30 |\n",
    "|     | Break                                                                          |  2:30 -  2:45 |\n",
    "|     | Case Study, pt. 2                                                              |  2:45 -  3:45 |\n",
    "|     | Case Study Review, pt. 2 and Q&A                                               |  3:45 -  4:15 |"
   ]
  },
  {
   "cell_type": "markdown",
   "metadata": {
    "slideshow": {
     "slide_type": "slide"
    }
   },
   "source": [
    "## Course Philosophy"
   ]
  },
  {
   "cell_type": "markdown",
   "metadata": {
    "slideshow": {
     "slide_type": "fragment"
    }
   },
   "source": [
    "Beginners typically need the instructor to make connections and solve problems for them.\n",
    "\n",
    "*Why is this code not running?\n",
    "What types of real world problems could I use this package for?*"
   ]
  },
  {
   "cell_type": "markdown",
   "metadata": {},
   "source": []
  },
  {
   "cell_type": "markdown",
   "metadata": {
    "slideshow": {
     "slide_type": "fragment"
    }
   },
   "source": [
    "But as intermediate to advanced users, we believe you'll be more capable of seeing those connections yourselves.\n",
    "Instead of diving into details and working through small code examples, this advanced workshop takes a slightly different approach..."
   ]
  },
  {
   "cell_type": "markdown",
   "metadata": {
    "slideshow": {
     "slide_type": "slide"
    }
   },
   "source": [
    "- **Give you an overview of the tools you might need to solve a problem**. We can't teach you machine learning in just two days, but we *can* give you a foundation. And as experienced coders, you'll be able to fill in the details yourselves when the time comes to use these tools."
   ]
  },
  {
   "cell_type": "markdown",
   "metadata": {
    "slideshow": {
     "slide_type": "fragment"
    }
   },
   "source": [
    "- **Explain more of the intuition behind tools and techniques**. Beginners can't yet see the forest for the trees -- they are caught up in small problems and not yet ready to understand the big picture. But in this class we will talk more about general design patterns of Python and its libraries, in a way that should help you *learn them* instead of simply memorize functions."
   ]
  },
  {
   "cell_type": "markdown",
   "metadata": {
    "slideshow": {
     "slide_type": "fragment"
    }
   },
   "source": [
    "- **Expect you to help yourself**. We'll still be here to answer questions and help with hard problems, but the mark of an experienced programmer is that he/she consults references often (Google, documentation, etc) and can find answers there. You'll need to do that during this course and afterward when you apply the techniques we discuss."
   ]
  },
  {
   "cell_type": "markdown",
   "metadata": {
    "slideshow": {
     "slide_type": "slide"
    }
   },
   "source": [
    "## Prerequisites"
   ]
  },
  {
   "cell_type": "markdown",
   "metadata": {
    "slideshow": {
     "slide_type": "slide"
    }
   },
   "source": [
    "### Knowledge"
   ]
  },
  {
   "cell_type": "markdown",
   "metadata": {
    "slideshow": {
     "slide_type": "fragment"
    }
   },
   "source": [
    "#### Python\n",
    "\n",
    "- If you're attending this class, it's assumed you're comfortable with the material covered in the [Introduction to Python for Data Science](https://github.com/uc-python/intro-python-datasci) and [Intermediate Python for Data Science](https://github.com/uc-python/intermediate-python-datasci) classes.\n",
    "- At a very high level, those courses covered:\n",
    "    - Importing data into and exporting data out of Python, via Pandas\n",
    "    - Wrangling data in Python with Pandas\n",
    "    - Basics of visualization with Seaborn\n",
    "    - Control flow\n",
    "    - Writing functions\n",
    "    - Conda environments\n",
    "    - Running Python outside of Jupyter notebooks\n",
    "    - Basics of modeling with scikit-learn"
   ]
  },
  {
   "cell_type": "markdown",
   "metadata": {
    "slideshow": {
     "slide_type": "slide"
    }
   },
   "source": [
    "#### Technology\n",
    "\n",
    "* If you're attending this class, it's assumed you're comfortable with launching and using Python via Jupyter Notebooks -- and ideally outside of Jupyter as well.\n",
    "* Course materials (slides, case studies, etc.) will be in Jupyter Notebooks, but you're free to use your IDE of choice when completing exercises and case studies."
   ]
  },
  {
   "cell_type": "markdown",
   "metadata": {
    "slideshow": {
     "slide_type": "slide"
    }
   },
   "source": [
    "### Technology Installation"
   ]
  },
  {
   "cell_type": "markdown",
   "metadata": {
    "slideshow": {
     "slide_type": "fragment"
    }
   },
   "source": [
    "- Unlike my other courses, Advanced Python is not designed with Binder in mind.\n",
    "- This means that you'll need to use your personal laptop to run today's code.\n",
    "- Why? We're going to be working with bigger data and more computationally-intensive algorithms, for which Binder is not well-equipped.\n",
    "    - In an industry setting, using these techniques would best be done on a *server*, not a personal computer."
   ]
  },
  {
   "cell_type": "markdown",
   "metadata": {
    "slideshow": {
     "slide_type": "slide"
    }
   },
   "source": [
    "#### Anaconda\n",
    "\n",
    "* Anaconda is the easiest way to install Python 3 and Jupyter.\n",
    "* If you have not yet installed Anaconda, please follow the [directions in the course README](https://github.com/uc-python/intermediate-python-datasci).\n",
    "* Be sure that all Python packages listed in the [environment.yaml](https://github.com/uc-python/advanced-python-datasci/blob/master/environment.yaml) are installed. See [here](https://docs.conda.io/projects/conda/en/latest/user-guide/tasks/manage-environments.html#creating-an-environment-from-an-environment-yml-file) for instructions on creating a Conda environment from an environment.yaml file.\n",
    "* This Anaconda installation will not be able to natively display the course content as slides, but I recommend using it for completing exercises and the case studies."
   ]
  },
  {
   "cell_type": "markdown",
   "metadata": {
    "slideshow": {
     "slide_type": "slide"
    }
   },
   "source": [
    "#### JupyterLab\n",
    "- If you took the introductory and/or intermediate courses, you may have used Jupyter Notebooks to write Python.\n",
    "- Jupyter Notebooks are slowly being deprecated in favor of a new, more featureful product called JupyterLab.\n",
    "- JupyterLab is extremely similar but supports more features, and Notebooks is no longer being updated.\n",
    "- I recommend using JupyterLab today even if you haven't used it before -- it comes packaged with Anaconda and should feel very familiar!"
   ]
  },
  {
   "cell_type": "markdown",
   "metadata": {
    "slideshow": {
     "slide_type": "slide"
    }
   },
   "source": [
    "## Course Materials"
   ]
  },
  {
   "cell_type": "markdown",
   "metadata": {
    "slideshow": {
     "slide_type": "fragment"
    }
   },
   "source": [
    "* All of the material for this course can be reached from the [GitHub repository](https://github.com/uc-python/advanced-python-datasci).\n",
    "* This repository has access to the slides and notebooks.\n",
    "* You should download the material -- available via [this link](https://github.com/uc-python/advanced-python-datasci/archive/master.zip) -- and open it via Anaconda Navigator and Jupyter Notebooks/Lab."
   ]
  },
  {
   "cell_type": "markdown",
   "metadata": {
    "slideshow": {
     "slide_type": "slide"
    }
   },
   "source": [
    "### Slides *and* Notebooks"
   ]
  },
  {
   "cell_type": "markdown",
   "metadata": {
    "slideshow": {
     "slide_type": "fragment"
    }
   },
   "source": [
    "- We'll be showing the material in slide format most of the time.\n",
    "- These slides contain the same content as your notebooks, so you can follow along and run cells as we go."
   ]
  },
  {
   "cell_type": "markdown",
   "metadata": {
    "slideshow": {
     "slide_type": "slide"
    }
   },
   "source": [
    "## Questions\n",
    "\n",
    "Are there any questions before moving on?"
   ]
  }
 ],
 "metadata": {
  "celltoolbar": "Slideshow",
  "kernelspec": {
   "display_name": "Python 3 (ipykernel)",
   "language": "python",
   "name": "python3"
  },
  "language_info": {
   "codemirror_mode": {
    "name": "ipython",
    "version": 3
   },
   "file_extension": ".py",
   "mimetype": "text/x-python",
   "name": "python",
   "nbconvert_exporter": "python",
   "pygments_lexer": "ipython3",
   "version": "3.7.11"
  },
  "rise": {
   "autolaunch": true,
   "transition": "none"
  }
 },
 "nbformat": 4,
 "nbformat_minor": 4
}
