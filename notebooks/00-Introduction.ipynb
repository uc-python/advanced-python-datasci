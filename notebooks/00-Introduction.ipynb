{
 "cells": [
  {
   "cell_type": "markdown",
   "source": [
    "# Advanced Python for Data Science\n",
    "\n",
    "Brad Boehmke & Ethan Swan\n",
    "\n",
    "Jan 11, 13, 18, & 20"
   ],
   "metadata": {
    "slideshow": {
     "slide_type": "slide"
    }
   }
  },
  {
   "cell_type": "markdown",
   "source": [
    "## Introductions"
   ],
   "metadata": {
    "slideshow": {
     "slide_type": "slide"
    }
   }
  },
  {
   "cell_type": "markdown",
   "source": [
    "## About Brad\n",
    "<table><tr>\n",
    "    <td><img width=\"300\" src=\"images/brad.jpg\"></td>\n",
    "    <td>\n",
    "      <h4>Professional</h4>\n",
    "      <ul>\n",
    "          <li>Director, Advanced Programming and Technology Solutions Team</li>\n",
    "          <li>84.51&deg;</li>\n",
    "      </ul>\n",
    "      <h4>Academic</h4>\n",
    "      <ul>\n",
    "          <li>BS, Kinesiology, North Dakota State University</li>\n",
    "          <li>MS, Cost Analytics, Air Force Institute of Technology</li>\n",
    "          <li>PhD, Logistics, Air Force Institute of Technology</li>\n",
    "      </ul>\n",
    "      <h4>Contact</h4>\n",
    "      <ul>\n",
    "          <li>GitHub: <a href=\"https://github.com/bradleyboehmke\">bradleyboehmke</a></li>\n",
    "          <li>Twitter: <a href=\"https://twitter.com/bradleyboehmke\">@bradleyboehmke</a></li>\n",
    "          <li>Email: <a href=\"mailto:bradleyboehmke@gmail.com\">bradleyboehmke@gmail.com</a></li>\n",
    "      </ul>\n",
    "    </td>\n",
    "</tr></table>"
   ],
   "metadata": {}
  },
  {
   "cell_type": "markdown",
   "source": [
    "## About Ethan\n",
    "<table><tr>\n",
    "  <td><img width=\"300\" src=\"images/ethan.jpg\"></td>\n",
    "  <td>\n",
    "      <h4>Professional</h4>\n",
    "      <ul>\n",
    "          <li>Lead Data Scientist, Advanced Programming and Technology Solutions Team</li>\n",
    "          <li>84.51&deg;</li>\n",
    "      </ul>\n",
    "      <h4>Academic</h4>\n",
    "      <ul>\n",
    "          <li>BS, Computer Science, University of Notre Dame</li>\n",
    "          <li>MBA, Business Analytics, University of Notre Dame</li>\n",
    "      </ul>\n",
    "      <h4>Contact</h4>\n",
    "      <ul>\n",
    "          <li>Website: <a href=\"https://ethanswan.com\">ethanswan.com</a></li>\n",
    "          <li>GitHub: <a href=\"https://github.com/eswan18/\">eswan18</a></li>\n",
    "          <li>Twitter: <a href=\"https://twitter.com/eswan18\">@eswan18</a></li>\n",
    "          <li>LinkedIn: <a href=\"https://linkedin.com/in/ethanpswan\">Ethan Swan</a></li>\n",
    "          <li>Email: <a href=\"mailto:ethanpswan@gmail.com\">ethanpswan@gmail.com</a></li>\n",
    "      </ul>\n",
    "    </td>\n",
    "</tr></table>"
   ],
   "metadata": {
    "cell_style": "split",
    "slideshow": {
     "slide_type": "slide"
    }
   }
  },
  {
   "cell_type": "markdown",
   "source": [
    "## Your Turn\n",
    "\n",
    "We'll go around the room. Please share:\n",
    "- Your name\n",
    "- Your job or field\n",
    "- How you use Python now or would like to in the future"
   ],
   "metadata": {
    "slideshow": {
     "slide_type": "slide"
    }
   }
  },
  {
   "cell_type": "markdown",
   "source": [
    "## Course"
   ],
   "metadata": {
    "slideshow": {
     "slide_type": "slide"
    }
   }
  },
  {
   "cell_type": "markdown",
   "source": [
    "## Course Objectives\n",
    "\n",
    "The following are the primary learning objectives of this course:"
   ],
   "metadata": {
    "slideshow": {
     "slide_type": "slide"
    }
   }
  },
  {
   "cell_type": "markdown",
   "source": [
    "- Develop an intuition for the machine learning workflow and Python tooling."
   ],
   "metadata": {
    "slideshow": {
     "slide_type": "fragment"
    }
   }
  },
  {
   "cell_type": "markdown",
   "source": [
    "- Build familiarity with common software engineering tooling and methodologies for implementing a machine learning project."
   ],
   "metadata": {
    "slideshow": {
     "slide_type": "fragment"
    }
   }
  },
  {
   "cell_type": "markdown",
   "source": [
    "- Gain hands-on experience with the tools and processes discussed with applied case study work."
   ],
   "metadata": {
    "slideshow": {
     "slide_type": "fragment"
    }
   }
  },
  {
   "cell_type": "markdown",
   "source": [
    "## Course Agenda"
   ],
   "metadata": {
    "slideshow": {
     "slide_type": "slide"
    }
   }
  },
  {
   "cell_type": "markdown",
   "source": [
    "| Day | Topic                                                                          |     Time      |\n",
    "| :-: | :----------------------------------------------------------------------------- | :-----------: |\n",
    "|  1  | Introductions                                                                  |  9:00 -  9:15 |\n",
    "|     | Setting the Stage                                                              |  9:15 -  9:30 |\n",
    "|     | Git & version control                                                          |  9:30 - 10:15 |\n",
    "|     | Break                                                                          | 10:15 - 10:30 |\n",
    "|     | EDA & Our First scikit-learn Model                                             | 10:30 - 12:00 |\n",
    "|     | Q&A                                                                            | 12:00 - 12:30 |\n",
    "|  2  | Q&A                                                                            |  8:45 -  9:00 |\n",
    "|     | Modular Code                                                                   |  9:00 - 10:00 |\n",
    "|     | Feature Engineering                                                            | 10:00 - 11:00 |\n",
    "|     | Break                                                                          | 11:00 - 11:15 |\n",
    "|     | Case Study, pt. 1                                                              | 11:15 - 12:00 |\n",
    "|     | Q&A                                                                            | 12:00 - 12:30 |\n",
    "|  3  | Q&A                                                                            |  8:45 - 9:00  |\n",
    "|     | Model Evaluation & Selection                                                   |  9:00 - 10:15 |\n",
    "|     | Break                                                                          | 10:15 - 10:30 |\n",
    "|     | More on Modular Code                                                           | 10:30 - 11:15 |\n",
    "|     | Unit Tests                                                                     | 11:15 - 12:00 |\n",
    "|     | Q&A                                                                            | 12:00 - 12:30 |\n",
    "|  4  | Q&A                                                                            |  8:45 -  9:00 |\n",
    "|     | More on Unit Tests                                                             |  9:00 -  9:30 |\n",
    "|     | ML lifecycle management                                                        |  9:30 - 10:30 |\n",
    "|     | Break                                                                          | 10:30 - 10:45 |\n",
    "|     | Case Study, pt. 2                                                              | 10:45 - 11:45 |\n",
    "|     | Case Study Review, pt. 2 and Q&A                                               | 11:45 - 12:30 |"
   ],
   "metadata": {
    "slideshow": {
     "slide_type": "slide"
    }
   }
  },
  {
   "cell_type": "markdown",
   "source": [
    "## Course Philosophy"
   ],
   "metadata": {
    "slideshow": {
     "slide_type": "slide"
    }
   }
  },
  {
   "cell_type": "markdown",
   "source": [
    "Beginners typically need the instructor to make connections and solve problems for them.\n",
    "\n",
    "*Why is this code not running?\n",
    "What types of real world problems could I use this package for?*"
   ],
   "metadata": {
    "slideshow": {
     "slide_type": "fragment"
    }
   }
  },
  {
   "cell_type": "markdown",
   "source": [],
   "metadata": {}
  },
  {
   "cell_type": "markdown",
   "source": [
    "But as intermediate to advanced users, we believe you'll be more capable of seeing those connections yourselves.\n",
    "Instead of diving into details and working through small code examples, this advanced workshop takes a slightly different approach..."
   ],
   "metadata": {
    "slideshow": {
     "slide_type": "fragment"
    }
   }
  },
  {
   "cell_type": "markdown",
   "source": [
    "- **Give you an overview of the tools you might need to solve a problem**. We can't teach you machine learning in just two days, but we *can* give you a foundation. And as experienced coders, you'll be able to fill in the details yourselves when the time comes to use these tools."
   ],
   "metadata": {
    "slideshow": {
     "slide_type": "slide"
    }
   }
  },
  {
   "cell_type": "markdown",
   "source": [
    "- **Explain more of the intuition behind tools and techniques**. Beginners can't yet see the forest for the trees -- they are caught up in small problems and not yet ready to understand the big picture. But in this class we will talk more about general design patterns of Python and its libraries, in a way that should help you *learn them* instead of simply memorize functions."
   ],
   "metadata": {
    "slideshow": {
     "slide_type": "fragment"
    }
   }
  },
  {
   "cell_type": "markdown",
   "source": [
    "- **Expect you to help yourself**. We'll still be here to answer questions and help with hard problems, but the mark of an experienced programmer is that he/she consults references often (Google, documentation, etc) and can find answers there. You'll need to do that during this course and afterward when you apply the techniques we discuss."
   ],
   "metadata": {
    "slideshow": {
     "slide_type": "fragment"
    }
   }
  },
  {
   "cell_type": "markdown",
   "source": [
    "## Prerequisites"
   ],
   "metadata": {
    "slideshow": {
     "slide_type": "slide"
    }
   }
  },
  {
   "cell_type": "markdown",
   "source": [
    "### Knowledge"
   ],
   "metadata": {
    "slideshow": {
     "slide_type": "slide"
    }
   }
  },
  {
   "cell_type": "markdown",
   "source": [
    "#### Python\r\n",
    "\r\n",
    "- If you're attending this class, it's assumed you're comfortable with the material covered in the [Introduction to Python for Data Science](https://github.com/uc-python/intro-python-datasci) and [Intermediate Python for Data Science](https://github.com/uc-python/intermediate-python-datasci) classes.\r\n",
    "- At a very high level, those courses covered:\r\n",
    "    - Importing data into and exporting data out of Python, via Pandas\r\n",
    "    - Wrangling data in Python with Pandas\r\n",
    "    - Basics of visualization with Seaborn\r\n",
    "    - Control flow\r\n",
    "    - Writing functions\r\n",
    "    - Conda environments\r\n",
    "    - Running Python outside of Jupyter notebooks\r\n",
    "    - Basics of modeling with scikit-learn"
   ],
   "metadata": {
    "slideshow": {
     "slide_type": "fragment"
    }
   }
  },
  {
   "cell_type": "markdown",
   "source": [
    "#### Technology\n",
    "\n",
    "* If you're attending this class, it's assumed you're comfortable with launching and using Python via Jupyter Notebooks -- and ideally outside of Jupyter as well.\n",
    "* Course materials (slides, case studies, etc.) will be in Jupyter Notebooks, but you're free to use your IDE of choice when completing exercises and case studies."
   ],
   "metadata": {
    "slideshow": {
     "slide_type": "slide"
    }
   }
  },
  {
   "cell_type": "markdown",
   "source": [
    "### Technology Installation"
   ],
   "metadata": {
    "slideshow": {
     "slide_type": "slide"
    }
   }
  },
  {
   "cell_type": "markdown",
   "source": [
    "- Unlike my other courses, Advanced Python is not designed with Binder in mind.\n",
    "- This means that you'll need to use your personal laptop to run today's code.\n",
    "- Why? We're going to be working with bigger data and more computationally-intensive algorithms, for which Binder is not well-equipped.\n",
    "    - In an industry setting, using these techniques would best be done on a *server*, not a personal computer."
   ],
   "metadata": {
    "slideshow": {
     "slide_type": "fragment"
    }
   }
  },
  {
   "cell_type": "markdown",
   "source": [
    "#### Anaconda\r\n",
    "\r\n",
    "* Anaconda is the easiest way to install Python 3 and Jupyter.\r\n",
    "* If you have not yet installed Anaconda, please follow the [directions in the course README](https://github.com/uc-python/intermediate-python-datasci).\r\n",
    "* Be sure that all Python packages listed in the [environment.yaml](https://github.com/uc-python/advanced-python-datasci/blob/master/environment.yaml) are installed. See [here](https://docs.conda.io/projects/conda/en/latest/user-guide/tasks/manage-environments.html#creating-an-environment-from-an-environment-yml-file) for instructions on creating a Conda environment from an environment.yaml file.\r\n",
    "* This Anaconda installation will not be able to natively display the course content as slides, but I recommend using it for completing exercises and the case studies."
   ],
   "metadata": {
    "slideshow": {
     "slide_type": "slide"
    }
   }
  },
  {
   "cell_type": "markdown",
   "source": [
    "#### JupyterLab\n",
    "- If you took the introductory and/or intermediate courses, you may have used Jupyter Notebooks to write Python.\n",
    "- Jupyter Notebooks are slowly being deprecated in favor of a new, more featureful product called JupyterLab.\n",
    "- JupyterLab is extremely similar but supports more features, and Notebooks is no longer being updated.\n",
    "- I recommend using JupyterLab today even if you haven't used it before -- it comes packaged with Anaconda and should feel very familiar!"
   ],
   "metadata": {
    "slideshow": {
     "slide_type": "slide"
    }
   }
  },
  {
   "cell_type": "markdown",
   "source": [
    "## Course Materials"
   ],
   "metadata": {
    "slideshow": {
     "slide_type": "slide"
    }
   }
  },
  {
   "cell_type": "markdown",
   "source": [
    "* All of the material for this course can be reached from the [GitHub repository](https://github.com/uc-python/advanced-python-datasci).\n",
    "* This repository has access to the slides and notebooks.\n",
    "* You should download the material -- available via [this link](https://github.com/uc-python/advanced-python-datasci/archive/master.zip) -- and open it via Anaconda Navigator and Jupyter Notebooks/Lab."
   ],
   "metadata": {
    "slideshow": {
     "slide_type": "fragment"
    }
   }
  },
  {
   "cell_type": "markdown",
   "source": [
    "### Slides *and* Notebooks"
   ],
   "metadata": {
    "slideshow": {
     "slide_type": "slide"
    }
   }
  },
  {
   "cell_type": "markdown",
   "source": [
    "- We'll be showing the material in slide format most of the time.\n",
    "- These slides contain the same content as your notebooks, so you can follow along and run cells as we go."
   ],
   "metadata": {
    "slideshow": {
     "slide_type": "fragment"
    }
   }
  },
  {
   "cell_type": "markdown",
   "source": [
    "## Questions\n",
    "\n",
    "Are there any questions before moving on?"
   ],
   "metadata": {
    "slideshow": {
     "slide_type": "slide"
    }
   }
  }
 ],
 "metadata": {
  "celltoolbar": "Slideshow",
  "kernelspec": {
   "display_name": "Python 3 (ipykernel)",
   "language": "python",
   "name": "python3"
  },
  "language_info": {
   "codemirror_mode": {
    "name": "ipython",
    "version": 3
   },
   "file_extension": ".py",
   "mimetype": "text/x-python",
   "name": "python",
   "nbconvert_exporter": "python",
   "pygments_lexer": "ipython3",
   "version": "3.7.11"
  },
  "rise": {
   "autolaunch": true,
   "transition": "none"
  }
 },
 "nbformat": 4,
 "nbformat_minor": 4
}