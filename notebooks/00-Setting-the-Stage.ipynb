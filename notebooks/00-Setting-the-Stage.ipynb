{
 "cells": [
  {
   "cell_type": "markdown",
   "id": "35c318b9",
   "metadata": {
    "slideshow": {
     "slide_type": "slide"
    }
   },
   "source": [
    "# Review of Basic Python for Data Science"
   ]
  },
  {
   "cell_type": "markdown",
   "id": "9bf553d9",
   "metadata": {
    "slideshow": {
     "slide_type": "slide"
    },
    "tags": []
   },
   "source": [
    "## Basic Data Types\n",
    "\n",
    "\n",
    "- **integers** (`int`): Whole numbers, positive or negative or zero\n",
    "\n",
    "  - e.g. `3`,&nbsp;&nbsp;`0`,&nbsp;&nbsp;`-531`\n",
    "\n",
    "\n",
    "- **floats** (`float`): Decimal numbers\n",
    "\n",
    "  - e.g. `3.14`,&nbsp;&nbsp;`0.0004`,&nbsp;&nbsp;`-878.482`\n",
    "\n",
    "\n",
    "- **strings** (`str`): Arbitrary text\n",
    "\n",
    "  - e.g. `\"hello\"`,&nbsp;&nbsp;`'my name is ethan'`,&nbsp;&nbsp;`\"\"`\n",
    "\n",
    "\n",
    "- **booleans** (`bool`): Logical values `True` and `False`\n",
    "\n",
    "  - `True`,&nbsp;&nbsp;`False` -- that's it"
   ]
  },
  {
   "cell_type": "markdown",
   "id": "1037c90b",
   "metadata": {
    "slideshow": {
     "slide_type": "slide"
    }
   },
   "source": [
    "## Container Types\n",
    "\n",
    "- Python also has some objects that can \"contain\" others..."
   ]
  },
  {
   "cell_type": "markdown",
   "id": "104fd121",
   "metadata": {
    "slideshow": {
     "slide_type": "slide"
    }
   },
   "source": [
    "## Container Types\n",
    "\n",
    "**lists** (`list`): Ordered, 1-dimensional sequences of objects\n",
    "\n",
    "  - Elements may be different types of things.\n",
    "\n",
    "**dictionaries** (`dict`): Mappings from \"keys\" to \"values\", good for looking up entries by their key"
   ]
  },
  {
   "cell_type": "markdown",
   "id": "27094b45",
   "metadata": {
    "slideshow": {
     "slide_type": "slide"
    }
   },
   "source": [
    "## Pandas\n",
    "\n",
    "- The Pandas package is the backbone of data analysis in Python\n",
    "\n",
    "- Pandas is all about **DataFrames**, objects that store tabular data\n",
    "\n",
    "  - The package was originally developed by financial analysts who wanted to do data analysis in Python, but needed an abstraction similar to DataFrames from the R language to do so.\n",
    "\n",
    "\n",
    "- The funny name is short for **Pan**el **Da**ta"
   ]
  },
  {
   "cell_type": "markdown",
   "id": "fa553987",
   "metadata": {
    "slideshow": {
     "slide_type": "slide"
    }
   },
   "source": [
    "## DataFrames -- Importing Data\n",
    "\n",
    "- Easy to read in data from common formats (CSV, JSON, SQL databases)\n",
    "\n",
    "- `pd.read_csv` is what we'll use most often\n",
    "\n",
    "```python\n",
    "df = pd.read_csv('data/my_data.csv')\n",
    "```"
   ]
  },
  {
   "cell_type": "code",
   "execution_count": 7,
   "id": "35ecbb08-c560-40bb-8f9e-7c1dd5979f78",
   "metadata": {},
   "outputs": [],
   "source": [
    "import pandas as pd\n",
    "planes_df = pd.read_csv('../data/planes.csv')"
   ]
  },
  {
   "cell_type": "markdown",
   "id": "e4b5da82",
   "metadata": {
    "slideshow": {
     "slide_type": "slide"
    }
   },
   "source": [
    "## DataFrames -- Preview Data\n",
    "\n",
    "`df.head()` is usually the place to start -- returns the first 5 rows"
   ]
  },
  {
   "cell_type": "code",
   "execution_count": 8,
   "id": "36d951dd",
   "metadata": {
    "slideshow": {
     "slide_type": "fragment"
    }
   },
   "outputs": [
    {
     "data": {
      "text/html": [
       "<div>\n",
       "<style scoped>\n",
       "    .dataframe tbody tr th:only-of-type {\n",
       "        vertical-align: middle;\n",
       "    }\n",
       "\n",
       "    .dataframe tbody tr th {\n",
       "        vertical-align: top;\n",
       "    }\n",
       "\n",
       "    .dataframe thead th {\n",
       "        text-align: right;\n",
       "    }\n",
       "</style>\n",
       "<table border=\"1\" class=\"dataframe\">\n",
       "  <thead>\n",
       "    <tr style=\"text-align: right;\">\n",
       "      <th></th>\n",
       "      <th>tailnum</th>\n",
       "      <th>year</th>\n",
       "      <th>type</th>\n",
       "      <th>manufacturer</th>\n",
       "      <th>model</th>\n",
       "      <th>engines</th>\n",
       "      <th>seats</th>\n",
       "      <th>speed</th>\n",
       "      <th>engine</th>\n",
       "    </tr>\n",
       "  </thead>\n",
       "  <tbody>\n",
       "    <tr>\n",
       "      <th>0</th>\n",
       "      <td>N10156</td>\n",
       "      <td>2004.0</td>\n",
       "      <td>Fixed wing multi engine</td>\n",
       "      <td>EMBRAER</td>\n",
       "      <td>EMB-145XR</td>\n",
       "      <td>2</td>\n",
       "      <td>55</td>\n",
       "      <td>NaN</td>\n",
       "      <td>Turbo-fan</td>\n",
       "    </tr>\n",
       "    <tr>\n",
       "      <th>1</th>\n",
       "      <td>N102UW</td>\n",
       "      <td>1998.0</td>\n",
       "      <td>Fixed wing multi engine</td>\n",
       "      <td>AIRBUS INDUSTRIE</td>\n",
       "      <td>A320-214</td>\n",
       "      <td>2</td>\n",
       "      <td>182</td>\n",
       "      <td>NaN</td>\n",
       "      <td>Turbo-fan</td>\n",
       "    </tr>\n",
       "    <tr>\n",
       "      <th>2</th>\n",
       "      <td>N103US</td>\n",
       "      <td>1999.0</td>\n",
       "      <td>Fixed wing multi engine</td>\n",
       "      <td>AIRBUS INDUSTRIE</td>\n",
       "      <td>A320-214</td>\n",
       "      <td>2</td>\n",
       "      <td>182</td>\n",
       "      <td>NaN</td>\n",
       "      <td>Turbo-fan</td>\n",
       "    </tr>\n",
       "    <tr>\n",
       "      <th>3</th>\n",
       "      <td>N104UW</td>\n",
       "      <td>1999.0</td>\n",
       "      <td>Fixed wing multi engine</td>\n",
       "      <td>AIRBUS INDUSTRIE</td>\n",
       "      <td>A320-214</td>\n",
       "      <td>2</td>\n",
       "      <td>182</td>\n",
       "      <td>NaN</td>\n",
       "      <td>Turbo-fan</td>\n",
       "    </tr>\n",
       "    <tr>\n",
       "      <th>4</th>\n",
       "      <td>N10575</td>\n",
       "      <td>2002.0</td>\n",
       "      <td>Fixed wing multi engine</td>\n",
       "      <td>EMBRAER</td>\n",
       "      <td>EMB-145LR</td>\n",
       "      <td>2</td>\n",
       "      <td>55</td>\n",
       "      <td>NaN</td>\n",
       "      <td>Turbo-fan</td>\n",
       "    </tr>\n",
       "  </tbody>\n",
       "</table>\n",
       "</div>"
      ],
      "text/plain": [
       "  tailnum    year                     type      manufacturer      model  \\\n",
       "0  N10156  2004.0  Fixed wing multi engine           EMBRAER  EMB-145XR   \n",
       "1  N102UW  1998.0  Fixed wing multi engine  AIRBUS INDUSTRIE   A320-214   \n",
       "2  N103US  1999.0  Fixed wing multi engine  AIRBUS INDUSTRIE   A320-214   \n",
       "3  N104UW  1999.0  Fixed wing multi engine  AIRBUS INDUSTRIE   A320-214   \n",
       "4  N10575  2002.0  Fixed wing multi engine           EMBRAER  EMB-145LR   \n",
       "\n",
       "   engines  seats  speed     engine  \n",
       "0        2     55    NaN  Turbo-fan  \n",
       "1        2    182    NaN  Turbo-fan  \n",
       "2        2    182    NaN  Turbo-fan  \n",
       "3        2    182    NaN  Turbo-fan  \n",
       "4        2     55    NaN  Turbo-fan  "
      ]
     },
     "execution_count": 8,
     "metadata": {},
     "output_type": "execute_result"
    }
   ],
   "source": [
    "planes_df.head()"
   ]
  },
  {
   "cell_type": "markdown",
   "id": "c5aa0fb3",
   "metadata": {
    "slideshow": {
     "slide_type": "slide"
    }
   },
   "source": [
    "## DataFrames -- Exporting Data\n",
    "\n",
    "- Pandas can save data in most of the formats it supports importing from.\n",
    "\n",
    "- Here we usually use `df.to_csv`\n",
    "\n",
    "```python\n",
    "df.to_csv('data/my_data.csv', index=False)\n",
    "```"
   ]
  },
  {
   "cell_type": "markdown",
   "id": "5edf0fb0",
   "metadata": {
    "slideshow": {
     "slide_type": "slide"
    }
   },
   "source": [
    "## Subsetting Data\n",
    "\n",
    "- Before you do much else, you need to be able to get at pieces of a DataFrame that you're interested in.\n",
    "\n",
    "- This usually means limiting to certain columns, to certain rows, or both at the same time."
   ]
  },
  {
   "cell_type": "markdown",
   "id": "6f6270f6",
   "metadata": {
    "slideshow": {
     "slide_type": "slide"
    }
   },
   "source": [
    "## Selecting\n",
    "\n",
    "- Subsetting data by its columns is often called **selecting**\n",
    "\n",
    "  - You might say \"select the name column from the data\"\n",
    "\n",
    "- The syntax to select a single column is `df[column_name]`\n",
    "\n",
    "  - This returns a **series** object, a 1-dimensional Pandas object\n",
    "\n",
    "  - Series are a lot like Python lists, except all the data in them is usually of the same type"
   ]
  },
  {
   "cell_type": "markdown",
   "id": "6f6da0c5",
   "metadata": {
    "slideshow": {
     "slide_type": "slide"
    }
   },
   "source": [
    "## Selecting"
   ]
  },
  {
   "cell_type": "markdown",
   "id": "38e520ac-c7ad-4bda-a102-fd44c35b1b78",
   "metadata": {
    "slideshow": {
     "slide_type": "slide"
    }
   },
   "source": [
    "- Using single brackets returns a Series; using double brackets returns a **DataFrame**\n",
    "    - Selecting multiple columns must be done with double brackets\n",
    "  \n",
    "  - You can even use double brackets with a single column if you don't want a Series"
   ]
  },
  {
   "cell_type": "code",
   "execution_count": 9,
   "id": "a543ecc5",
   "metadata": {
    "slideshow": {
     "slide_type": "fragment"
    }
   },
   "outputs": [
    {
     "data": {
      "text/plain": [
       "0        55\n",
       "1       182\n",
       "2       182\n",
       "3       182\n",
       "4        55\n",
       "       ... \n",
       "3317    100\n",
       "3318    142\n",
       "3319    100\n",
       "3320    142\n",
       "3321    142\n",
       "Name: seats, Length: 3322, dtype: int64"
      ]
     },
     "execution_count": 9,
     "metadata": {},
     "output_type": "execute_result"
    }
   ],
   "source": [
    "planes_df['seats']"
   ]
  },
  {
   "cell_type": "code",
   "execution_count": 10,
   "id": "9f7e1cf1",
   "metadata": {
    "slideshow": {
     "slide_type": "slide"
    }
   },
   "outputs": [
    {
     "data": {
      "text/html": [
       "<div>\n",
       "<style scoped>\n",
       "    .dataframe tbody tr th:only-of-type {\n",
       "        vertical-align: middle;\n",
       "    }\n",
       "\n",
       "    .dataframe tbody tr th {\n",
       "        vertical-align: top;\n",
       "    }\n",
       "\n",
       "    .dataframe thead th {\n",
       "        text-align: right;\n",
       "    }\n",
       "</style>\n",
       "<table border=\"1\" class=\"dataframe\">\n",
       "  <thead>\n",
       "    <tr style=\"text-align: right;\">\n",
       "      <th></th>\n",
       "      <th>seats</th>\n",
       "      <th>tailnum</th>\n",
       "    </tr>\n",
       "  </thead>\n",
       "  <tbody>\n",
       "    <tr>\n",
       "      <th>0</th>\n",
       "      <td>55</td>\n",
       "      <td>N10156</td>\n",
       "    </tr>\n",
       "    <tr>\n",
       "      <th>1</th>\n",
       "      <td>182</td>\n",
       "      <td>N102UW</td>\n",
       "    </tr>\n",
       "    <tr>\n",
       "      <th>2</th>\n",
       "      <td>182</td>\n",
       "      <td>N103US</td>\n",
       "    </tr>\n",
       "    <tr>\n",
       "      <th>3</th>\n",
       "      <td>182</td>\n",
       "      <td>N104UW</td>\n",
       "    </tr>\n",
       "    <tr>\n",
       "      <th>4</th>\n",
       "      <td>55</td>\n",
       "      <td>N10575</td>\n",
       "    </tr>\n",
       "    <tr>\n",
       "      <th>...</th>\n",
       "      <td>...</td>\n",
       "      <td>...</td>\n",
       "    </tr>\n",
       "    <tr>\n",
       "      <th>3317</th>\n",
       "      <td>100</td>\n",
       "      <td>N997AT</td>\n",
       "    </tr>\n",
       "    <tr>\n",
       "      <th>3318</th>\n",
       "      <td>142</td>\n",
       "      <td>N997DL</td>\n",
       "    </tr>\n",
       "    <tr>\n",
       "      <th>3319</th>\n",
       "      <td>100</td>\n",
       "      <td>N998AT</td>\n",
       "    </tr>\n",
       "    <tr>\n",
       "      <th>3320</th>\n",
       "      <td>142</td>\n",
       "      <td>N998DL</td>\n",
       "    </tr>\n",
       "    <tr>\n",
       "      <th>3321</th>\n",
       "      <td>142</td>\n",
       "      <td>N999DN</td>\n",
       "    </tr>\n",
       "  </tbody>\n",
       "</table>\n",
       "<p>3322 rows × 2 columns</p>\n",
       "</div>"
      ],
      "text/plain": [
       "      seats tailnum\n",
       "0        55  N10156\n",
       "1       182  N102UW\n",
       "2       182  N103US\n",
       "3       182  N104UW\n",
       "4        55  N10575\n",
       "...     ...     ...\n",
       "3317    100  N997AT\n",
       "3318    142  N997DL\n",
       "3319    100  N998AT\n",
       "3320    142  N998DL\n",
       "3321    142  N999DN\n",
       "\n",
       "[3322 rows x 2 columns]"
      ]
     },
     "execution_count": 10,
     "metadata": {},
     "output_type": "execute_result"
    }
   ],
   "source": [
    "planes_df[['seats', 'tailnum']]"
   ]
  },
  {
   "cell_type": "markdown",
   "id": "2d7c58cc",
   "metadata": {
    "slideshow": {
     "slide_type": "slide"
    }
   },
   "source": [
    "## Indexing\n",
    "\n",
    "- \"Indexing\" is the word we use for subsetting rows based on their location or row label.\n",
    "\n",
    "- Most things in Python index from 0.\n",
    "\n",
    "  - That means an sequence with 3 elements would label them #0, #1, and #2.\n",
    "  \n",
    "\n",
    "- DataFrames have row indexes, as we've discussed before.\n",
    "\n",
    "  - You can think of them as row labels.\n",
    "\n",
    "  - By default, they're just integers from 0 to (number_of_rows - 1)."
   ]
  },
  {
   "cell_type": "markdown",
   "id": "84f75b38",
   "metadata": {
    "slideshow": {
     "slide_type": "slide"
    }
   },
   "source": [
    "## Indexing\n",
    "\n",
    "- Indices can be selected using `df.loc` and brackets."
   ]
  },
  {
   "cell_type": "code",
   "execution_count": 11,
   "id": "36c8e5e1",
   "metadata": {},
   "outputs": [
    {
     "data": {
      "text/plain": [
       "tailnum                          N103US\n",
       "year                             1999.0\n",
       "type            Fixed wing multi engine\n",
       "manufacturer           AIRBUS INDUSTRIE\n",
       "model                          A320-214\n",
       "engines                               2\n",
       "seats                               182\n",
       "speed                               NaN\n",
       "engine                        Turbo-fan\n",
       "Name: 2, dtype: object"
      ]
     },
     "execution_count": 11,
     "metadata": {},
     "output_type": "execute_result"
    }
   ],
   "source": [
    "planes_df.loc[2]"
   ]
  },
  {
   "cell_type": "markdown",
   "id": "266cb23c",
   "metadata": {
    "slideshow": {
     "slide_type": "fragment"
    }
   },
   "source": [
    "- Like selecting a single column, indexing a single row returns a **Series**, not a DataFrame.\n",
    "\n",
    "  - Because, again, it's a 1-dimensional object."
   ]
  },
  {
   "cell_type": "markdown",
   "id": "3dd54aa4-9d55-42bd-9e35-a285c5667af8",
   "metadata": {},
   "source": [
    "But using a *slice* for an index returns a DataFrame..."
   ]
  },
  {
   "cell_type": "code",
   "execution_count": 12,
   "id": "5a19abe3",
   "metadata": {},
   "outputs": [
    {
     "data": {
      "text/html": [
       "<div>\n",
       "<style scoped>\n",
       "    .dataframe tbody tr th:only-of-type {\n",
       "        vertical-align: middle;\n",
       "    }\n",
       "\n",
       "    .dataframe tbody tr th {\n",
       "        vertical-align: top;\n",
       "    }\n",
       "\n",
       "    .dataframe thead th {\n",
       "        text-align: right;\n",
       "    }\n",
       "</style>\n",
       "<table border=\"1\" class=\"dataframe\">\n",
       "  <thead>\n",
       "    <tr style=\"text-align: right;\">\n",
       "      <th></th>\n",
       "      <th>tailnum</th>\n",
       "      <th>year</th>\n",
       "      <th>type</th>\n",
       "      <th>manufacturer</th>\n",
       "      <th>model</th>\n",
       "      <th>engines</th>\n",
       "      <th>seats</th>\n",
       "      <th>speed</th>\n",
       "      <th>engine</th>\n",
       "    </tr>\n",
       "  </thead>\n",
       "  <tbody>\n",
       "    <tr>\n",
       "      <th>3</th>\n",
       "      <td>N104UW</td>\n",
       "      <td>1999.0</td>\n",
       "      <td>Fixed wing multi engine</td>\n",
       "      <td>AIRBUS INDUSTRIE</td>\n",
       "      <td>A320-214</td>\n",
       "      <td>2</td>\n",
       "      <td>182</td>\n",
       "      <td>NaN</td>\n",
       "      <td>Turbo-fan</td>\n",
       "    </tr>\n",
       "    <tr>\n",
       "      <th>4</th>\n",
       "      <td>N10575</td>\n",
       "      <td>2002.0</td>\n",
       "      <td>Fixed wing multi engine</td>\n",
       "      <td>EMBRAER</td>\n",
       "      <td>EMB-145LR</td>\n",
       "      <td>2</td>\n",
       "      <td>55</td>\n",
       "      <td>NaN</td>\n",
       "      <td>Turbo-fan</td>\n",
       "    </tr>\n",
       "    <tr>\n",
       "      <th>5</th>\n",
       "      <td>N105UW</td>\n",
       "      <td>1999.0</td>\n",
       "      <td>Fixed wing multi engine</td>\n",
       "      <td>AIRBUS INDUSTRIE</td>\n",
       "      <td>A320-214</td>\n",
       "      <td>2</td>\n",
       "      <td>182</td>\n",
       "      <td>NaN</td>\n",
       "      <td>Turbo-fan</td>\n",
       "    </tr>\n",
       "    <tr>\n",
       "      <th>6</th>\n",
       "      <td>N107US</td>\n",
       "      <td>1999.0</td>\n",
       "      <td>Fixed wing multi engine</td>\n",
       "      <td>AIRBUS INDUSTRIE</td>\n",
       "      <td>A320-214</td>\n",
       "      <td>2</td>\n",
       "      <td>182</td>\n",
       "      <td>NaN</td>\n",
       "      <td>Turbo-fan</td>\n",
       "    </tr>\n",
       "  </tbody>\n",
       "</table>\n",
       "</div>"
      ],
      "text/plain": [
       "  tailnum    year                     type      manufacturer      model  \\\n",
       "3  N104UW  1999.0  Fixed wing multi engine  AIRBUS INDUSTRIE   A320-214   \n",
       "4  N10575  2002.0  Fixed wing multi engine           EMBRAER  EMB-145LR   \n",
       "5  N105UW  1999.0  Fixed wing multi engine  AIRBUS INDUSTRIE   A320-214   \n",
       "6  N107US  1999.0  Fixed wing multi engine  AIRBUS INDUSTRIE   A320-214   \n",
       "\n",
       "   engines  seats  speed     engine  \n",
       "3        2    182    NaN  Turbo-fan  \n",
       "4        2     55    NaN  Turbo-fan  \n",
       "5        2    182    NaN  Turbo-fan  \n",
       "6        2    182    NaN  Turbo-fan  "
      ]
     },
     "execution_count": 12,
     "metadata": {},
     "output_type": "execute_result"
    }
   ],
   "source": [
    "planes_df.loc[3:6]"
   ]
  },
  {
   "cell_type": "markdown",
   "id": "017a1870",
   "metadata": {
    "slideshow": {
     "slide_type": "slide"
    }
   },
   "source": [
    "## Combining Selecting and Indexing\n",
    "\n",
    "- You can select columns and index rows all at once using `df.loc[row_index, columns]`"
   ]
  },
  {
   "cell_type": "code",
   "execution_count": 13,
   "id": "94365f2e",
   "metadata": {},
   "outputs": [
    {
     "data": {
      "text/html": [
       "<div>\n",
       "<style scoped>\n",
       "    .dataframe tbody tr th:only-of-type {\n",
       "        vertical-align: middle;\n",
       "    }\n",
       "\n",
       "    .dataframe tbody tr th {\n",
       "        vertical-align: top;\n",
       "    }\n",
       "\n",
       "    .dataframe thead th {\n",
       "        text-align: right;\n",
       "    }\n",
       "</style>\n",
       "<table border=\"1\" class=\"dataframe\">\n",
       "  <thead>\n",
       "    <tr style=\"text-align: right;\">\n",
       "      <th></th>\n",
       "      <th>seats</th>\n",
       "      <th>tailnum</th>\n",
       "    </tr>\n",
       "  </thead>\n",
       "  <tbody>\n",
       "    <tr>\n",
       "      <th>3</th>\n",
       "      <td>182</td>\n",
       "      <td>N104UW</td>\n",
       "    </tr>\n",
       "    <tr>\n",
       "      <th>4</th>\n",
       "      <td>55</td>\n",
       "      <td>N10575</td>\n",
       "    </tr>\n",
       "    <tr>\n",
       "      <th>5</th>\n",
       "      <td>182</td>\n",
       "      <td>N105UW</td>\n",
       "    </tr>\n",
       "    <tr>\n",
       "      <th>6</th>\n",
       "      <td>182</td>\n",
       "      <td>N107US</td>\n",
       "    </tr>\n",
       "  </tbody>\n",
       "</table>\n",
       "</div>"
      ],
      "text/plain": [
       "   seats tailnum\n",
       "3    182  N104UW\n",
       "4     55  N10575\n",
       "5    182  N105UW\n",
       "6    182  N107US"
      ]
     },
     "execution_count": 13,
     "metadata": {},
     "output_type": "execute_result"
    }
   ],
   "source": [
    "# Row indices 3-6, columns \"seats\" and \"tailnum\"\n",
    "planes_df.loc[3:6, ['seats', 'tailnum']]"
   ]
  },
  {
   "cell_type": "markdown",
   "id": "5c8aa27a",
   "metadata": {
    "slideshow": {
     "slide_type": "slide"
    }
   },
   "source": [
    "## Filtering\n",
    "\n",
    "- *Filtering* means limiting rows based on a condition of the data\n",
    "\n",
    "  - e.g. \"all rows where the number of engines is greater than 2\"\n",
    "  \n",
    "\n",
    "- This is also done with `df.loc`, but you pass in an expression describing which rows to keep."
   ]
  },
  {
   "cell_type": "code",
   "execution_count": 14,
   "id": "426ef0e3",
   "metadata": {
    "slideshow": {
     "slide_type": "slide"
    }
   },
   "outputs": [
    {
     "data": {
      "text/html": [
       "<div>\n",
       "<style scoped>\n",
       "    .dataframe tbody tr th:only-of-type {\n",
       "        vertical-align: middle;\n",
       "    }\n",
       "\n",
       "    .dataframe tbody tr th {\n",
       "        vertical-align: top;\n",
       "    }\n",
       "\n",
       "    .dataframe thead th {\n",
       "        text-align: right;\n",
       "    }\n",
       "</style>\n",
       "<table border=\"1\" class=\"dataframe\">\n",
       "  <thead>\n",
       "    <tr style=\"text-align: right;\">\n",
       "      <th></th>\n",
       "      <th>tailnum</th>\n",
       "      <th>year</th>\n",
       "      <th>type</th>\n",
       "      <th>manufacturer</th>\n",
       "      <th>model</th>\n",
       "      <th>engines</th>\n",
       "      <th>seats</th>\n",
       "      <th>speed</th>\n",
       "      <th>engine</th>\n",
       "    </tr>\n",
       "  </thead>\n",
       "  <tbody>\n",
       "    <tr>\n",
       "      <th>603</th>\n",
       "      <td>N281AT</td>\n",
       "      <td>NaN</td>\n",
       "      <td>Fixed wing multi engine</td>\n",
       "      <td>AIRBUS INDUSTRIE</td>\n",
       "      <td>A340-313</td>\n",
       "      <td>4</td>\n",
       "      <td>375</td>\n",
       "      <td>NaN</td>\n",
       "      <td>Turbo-jet</td>\n",
       "    </tr>\n",
       "    <tr>\n",
       "      <th>1037</th>\n",
       "      <td>N381AA</td>\n",
       "      <td>1956.0</td>\n",
       "      <td>Fixed wing multi engine</td>\n",
       "      <td>DOUGLAS</td>\n",
       "      <td>DC-7BF</td>\n",
       "      <td>4</td>\n",
       "      <td>102</td>\n",
       "      <td>232.0</td>\n",
       "      <td>Reciprocating</td>\n",
       "    </tr>\n",
       "    <tr>\n",
       "      <th>2109</th>\n",
       "      <td>N670US</td>\n",
       "      <td>1990.0</td>\n",
       "      <td>Fixed wing multi engine</td>\n",
       "      <td>BOEING</td>\n",
       "      <td>747-451</td>\n",
       "      <td>4</td>\n",
       "      <td>450</td>\n",
       "      <td>NaN</td>\n",
       "      <td>Turbo-jet</td>\n",
       "    </tr>\n",
       "    <tr>\n",
       "      <th>2706</th>\n",
       "      <td>N840MQ</td>\n",
       "      <td>1974.0</td>\n",
       "      <td>Fixed wing multi engine</td>\n",
       "      <td>CANADAIR LTD</td>\n",
       "      <td>CF-5D</td>\n",
       "      <td>4</td>\n",
       "      <td>2</td>\n",
       "      <td>NaN</td>\n",
       "      <td>Turbo-jet</td>\n",
       "    </tr>\n",
       "    <tr>\n",
       "      <th>2764</th>\n",
       "      <td>N854NW</td>\n",
       "      <td>2004.0</td>\n",
       "      <td>Fixed wing multi engine</td>\n",
       "      <td>AIRBUS</td>\n",
       "      <td>A330-223</td>\n",
       "      <td>3</td>\n",
       "      <td>379</td>\n",
       "      <td>NaN</td>\n",
       "      <td>Turbo-fan</td>\n",
       "    </tr>\n",
       "    <tr>\n",
       "      <th>2771</th>\n",
       "      <td>N856NW</td>\n",
       "      <td>2004.0</td>\n",
       "      <td>Fixed wing multi engine</td>\n",
       "      <td>AIRBUS</td>\n",
       "      <td>A330-223</td>\n",
       "      <td>3</td>\n",
       "      <td>379</td>\n",
       "      <td>NaN</td>\n",
       "      <td>Turbo-fan</td>\n",
       "    </tr>\n",
       "    <tr>\n",
       "      <th>2931</th>\n",
       "      <td>N905FJ</td>\n",
       "      <td>1986.0</td>\n",
       "      <td>Fixed wing multi engine</td>\n",
       "      <td>AVIONS MARCEL DASSAULT</td>\n",
       "      <td>MYSTERE FALCON 900</td>\n",
       "      <td>3</td>\n",
       "      <td>12</td>\n",
       "      <td>NaN</td>\n",
       "      <td>Turbo-fan</td>\n",
       "    </tr>\n",
       "  </tbody>\n",
       "</table>\n",
       "</div>"
      ],
      "text/plain": [
       "     tailnum    year                     type            manufacturer  \\\n",
       "603   N281AT     NaN  Fixed wing multi engine        AIRBUS INDUSTRIE   \n",
       "1037  N381AA  1956.0  Fixed wing multi engine                 DOUGLAS   \n",
       "2109  N670US  1990.0  Fixed wing multi engine                  BOEING   \n",
       "2706  N840MQ  1974.0  Fixed wing multi engine            CANADAIR LTD   \n",
       "2764  N854NW  2004.0  Fixed wing multi engine                  AIRBUS   \n",
       "2771  N856NW  2004.0  Fixed wing multi engine                  AIRBUS   \n",
       "2931  N905FJ  1986.0  Fixed wing multi engine  AVIONS MARCEL DASSAULT   \n",
       "\n",
       "                   model  engines  seats  speed         engine  \n",
       "603             A340-313        4    375    NaN      Turbo-jet  \n",
       "1037              DC-7BF        4    102  232.0  Reciprocating  \n",
       "2109             747-451        4    450    NaN      Turbo-jet  \n",
       "2706               CF-5D        4      2    NaN      Turbo-jet  \n",
       "2764            A330-223        3    379    NaN      Turbo-fan  \n",
       "2771            A330-223        3    379    NaN      Turbo-fan  \n",
       "2931  MYSTERE FALCON 900        3     12    NaN      Turbo-fan  "
      ]
     },
     "execution_count": 14,
     "metadata": {},
     "output_type": "execute_result"
    }
   ],
   "source": [
    "# This syntax is a little clunky; the DataFrame name is specified twice.\n",
    "planes_df.loc[planes_df['engines'] > 2]"
   ]
  },
  {
   "cell_type": "markdown",
   "id": "dd8789ba",
   "metadata": {
    "slideshow": {
     "slide_type": "slide"
    }
   },
   "source": [
    "## Combining Selecting and Filtering\n",
    "\n",
    "- Like indexing, filtering can be combined with selecting in the `.loc` brackets.\n",
    "\n",
    "  - `df.loc[row_filter, columns]`"
   ]
  },
  {
   "cell_type": "code",
   "execution_count": 15,
   "id": "57412532",
   "metadata": {},
   "outputs": [
    {
     "data": {
      "text/html": [
       "<div>\n",
       "<style scoped>\n",
       "    .dataframe tbody tr th:only-of-type {\n",
       "        vertical-align: middle;\n",
       "    }\n",
       "\n",
       "    .dataframe tbody tr th {\n",
       "        vertical-align: top;\n",
       "    }\n",
       "\n",
       "    .dataframe thead th {\n",
       "        text-align: right;\n",
       "    }\n",
       "</style>\n",
       "<table border=\"1\" class=\"dataframe\">\n",
       "  <thead>\n",
       "    <tr style=\"text-align: right;\">\n",
       "      <th></th>\n",
       "      <th>seats</th>\n",
       "      <th>tailnum</th>\n",
       "    </tr>\n",
       "  </thead>\n",
       "  <tbody>\n",
       "    <tr>\n",
       "      <th>1813</th>\n",
       "      <td>139</td>\n",
       "      <td>N600TR</td>\n",
       "    </tr>\n",
       "    <tr>\n",
       "      <th>2131</th>\n",
       "      <td>139</td>\n",
       "      <td>N675MC</td>\n",
       "    </tr>\n",
       "    <tr>\n",
       "      <th>2402</th>\n",
       "      <td>139</td>\n",
       "      <td>N762NC</td>\n",
       "    </tr>\n",
       "    <tr>\n",
       "      <th>2432</th>\n",
       "      <td>139</td>\n",
       "      <td>N767NC</td>\n",
       "    </tr>\n",
       "    <tr>\n",
       "      <th>2472</th>\n",
       "      <td>139</td>\n",
       "      <td>N774NC</td>\n",
       "    </tr>\n",
       "    <tr>\n",
       "      <th>2483</th>\n",
       "      <td>139</td>\n",
       "      <td>N777NC</td>\n",
       "    </tr>\n",
       "    <tr>\n",
       "      <th>2492</th>\n",
       "      <td>139</td>\n",
       "      <td>N779NC</td>\n",
       "    </tr>\n",
       "    <tr>\n",
       "      <th>2503</th>\n",
       "      <td>139</td>\n",
       "      <td>N782NC</td>\n",
       "    </tr>\n",
       "  </tbody>\n",
       "</table>\n",
       "</div>"
      ],
      "text/plain": [
       "      seats tailnum\n",
       "1813    139  N600TR\n",
       "2131    139  N675MC\n",
       "2402    139  N762NC\n",
       "2432    139  N767NC\n",
       "2472    139  N774NC\n",
       "2483    139  N777NC\n",
       "2492    139  N779NC\n",
       "2503    139  N782NC"
      ]
     },
     "execution_count": 15,
     "metadata": {},
     "output_type": "execute_result"
    }
   ],
   "source": [
    "planes_df.loc[planes_df['seats'] == 139, ['seats', 'tailnum']]"
   ]
  },
  {
   "cell_type": "markdown",
   "id": "ad3f43e1",
   "metadata": {
    "slideshow": {
     "slide_type": "slide"
    }
   },
   "source": [
    "- Generally:\n",
    "\n",
    "  - Columns: `df[columns]`\n",
    "\n",
    "  - Rows: `df.loc[rows]`\n",
    "\n",
    "  - Both: `df.loc[rows, columns]`\n"
   ]
  },
  {
   "cell_type": "markdown",
   "id": "6c8c370c",
   "metadata": {
    "slideshow": {
     "slide_type": "slide"
    },
    "tags": []
   },
   "source": [
    "## DataFrame-level Summaries\n",
    "\n",
    "- You can get quick summaries of all numeric columns in a DataFrame using `df.describe()`"
   ]
  },
  {
   "cell_type": "code",
   "execution_count": 16,
   "id": "e2a355af",
   "metadata": {},
   "outputs": [
    {
     "data": {
      "text/html": [
       "<div>\n",
       "<style scoped>\n",
       "    .dataframe tbody tr th:only-of-type {\n",
       "        vertical-align: middle;\n",
       "    }\n",
       "\n",
       "    .dataframe tbody tr th {\n",
       "        vertical-align: top;\n",
       "    }\n",
       "\n",
       "    .dataframe thead th {\n",
       "        text-align: right;\n",
       "    }\n",
       "</style>\n",
       "<table border=\"1\" class=\"dataframe\">\n",
       "  <thead>\n",
       "    <tr style=\"text-align: right;\">\n",
       "      <th></th>\n",
       "      <th>year</th>\n",
       "      <th>engines</th>\n",
       "      <th>seats</th>\n",
       "      <th>speed</th>\n",
       "    </tr>\n",
       "  </thead>\n",
       "  <tbody>\n",
       "    <tr>\n",
       "      <th>count</th>\n",
       "      <td>3252.000000</td>\n",
       "      <td>3322.000000</td>\n",
       "      <td>3322.000000</td>\n",
       "      <td>23.000000</td>\n",
       "    </tr>\n",
       "    <tr>\n",
       "      <th>mean</th>\n",
       "      <td>2000.484010</td>\n",
       "      <td>1.995184</td>\n",
       "      <td>154.316376</td>\n",
       "      <td>236.782609</td>\n",
       "    </tr>\n",
       "    <tr>\n",
       "      <th>std</th>\n",
       "      <td>7.193425</td>\n",
       "      <td>0.117593</td>\n",
       "      <td>73.654974</td>\n",
       "      <td>149.759794</td>\n",
       "    </tr>\n",
       "    <tr>\n",
       "      <th>min</th>\n",
       "      <td>1956.000000</td>\n",
       "      <td>1.000000</td>\n",
       "      <td>2.000000</td>\n",
       "      <td>90.000000</td>\n",
       "    </tr>\n",
       "    <tr>\n",
       "      <th>25%</th>\n",
       "      <td>1997.000000</td>\n",
       "      <td>2.000000</td>\n",
       "      <td>140.000000</td>\n",
       "      <td>107.500000</td>\n",
       "    </tr>\n",
       "    <tr>\n",
       "      <th>50%</th>\n",
       "      <td>2001.000000</td>\n",
       "      <td>2.000000</td>\n",
       "      <td>149.000000</td>\n",
       "      <td>162.000000</td>\n",
       "    </tr>\n",
       "    <tr>\n",
       "      <th>75%</th>\n",
       "      <td>2005.000000</td>\n",
       "      <td>2.000000</td>\n",
       "      <td>182.000000</td>\n",
       "      <td>432.000000</td>\n",
       "    </tr>\n",
       "    <tr>\n",
       "      <th>max</th>\n",
       "      <td>2013.000000</td>\n",
       "      <td>4.000000</td>\n",
       "      <td>450.000000</td>\n",
       "      <td>432.000000</td>\n",
       "    </tr>\n",
       "  </tbody>\n",
       "</table>\n",
       "</div>"
      ],
      "text/plain": [
       "              year      engines        seats       speed\n",
       "count  3252.000000  3322.000000  3322.000000   23.000000\n",
       "mean   2000.484010     1.995184   154.316376  236.782609\n",
       "std       7.193425     0.117593    73.654974  149.759794\n",
       "min    1956.000000     1.000000     2.000000   90.000000\n",
       "25%    1997.000000     2.000000   140.000000  107.500000\n",
       "50%    2001.000000     2.000000   149.000000  162.000000\n",
       "75%    2005.000000     2.000000   182.000000  432.000000\n",
       "max    2013.000000     4.000000   450.000000  432.000000"
      ]
     },
     "execution_count": 16,
     "metadata": {},
     "output_type": "execute_result"
    }
   ],
   "source": [
    "planes_df.describe()"
   ]
  },
  {
   "cell_type": "markdown",
   "id": "1589b57c",
   "metadata": {
    "slideshow": {
     "slide_type": "slide"
    },
    "tags": []
   },
   "source": [
    "## Column-level Summaries\n",
    "\n",
    "- Series (remember, individual columns are Series objects) offer lots of summary options.\n",
    "\n",
    "- Usually they're invoked as `df[column].SUMMARY()` and return a single, scalar value."
   ]
  },
  {
   "cell_type": "markdown",
   "id": "31732db4",
   "metadata": {
    "slideshow": {
     "slide_type": "slide"
    },
    "tags": []
   },
   "source": [
    "## Column-level Numeric Summaries\n",
    "\n",
    "- `df[column].mean()`\n",
    "\n",
    "- `df[column].max()`\n",
    "\n",
    "- `df[column].min()`\n",
    "\n",
    "- `df[column].quantile(q=0.5) # Median`"
   ]
  },
  {
   "cell_type": "code",
   "execution_count": 17,
   "id": "5da4bafd",
   "metadata": {},
   "outputs": [
    {
     "data": {
      "text/plain": [
       "1956.0"
      ]
     },
     "execution_count": 17,
     "metadata": {},
     "output_type": "execute_result"
    }
   ],
   "source": [
    "planes_df['year'].min()"
   ]
  },
  {
   "cell_type": "markdown",
   "id": "be911478",
   "metadata": {
    "slideshow": {
     "slide_type": "slide"
    }
   },
   "source": [
    "## Column-level Categorical Summaries\n",
    "\n",
    "- `df[column].nunique() # Number of unique values`\n",
    "\n",
    "- `df[column].value_counts() # Number of occurrences of each value, descending`"
   ]
  },
  {
   "cell_type": "code",
   "execution_count": 18,
   "id": "389df100",
   "metadata": {},
   "outputs": [
    {
     "data": {
      "text/plain": [
       "6"
      ]
     },
     "execution_count": 18,
     "metadata": {},
     "output_type": "execute_result"
    }
   ],
   "source": [
    "planes_df['engine'].nunique()"
   ]
  },
  {
   "cell_type": "code",
   "execution_count": 19,
   "id": "e61ed5d8",
   "metadata": {},
   "outputs": [
    {
     "data": {
      "text/plain": [
       "Fixed wing multi engine     3292\n",
       "Fixed wing single engine      25\n",
       "Rotorcraft                     5\n",
       "Name: type, dtype: int64"
      ]
     },
     "execution_count": 19,
     "metadata": {},
     "output_type": "execute_result"
    }
   ],
   "source": [
    "planes_df['type'].value_counts()"
   ]
  },
  {
   "cell_type": "markdown",
   "id": "269e4b06",
   "metadata": {},
   "source": [
    "- Note that `value_counts` is an exception to the rule -- it doesn't return a single number, but instead a *Series*."
   ]
  },
  {
   "cell_type": "markdown",
   "id": "d1155651-5802-44d8-aae2-d61fe11d7858",
   "metadata": {
    "slideshow": {
     "slide_type": "slide"
    },
    "tags": []
   },
   "source": [
    "## Some Other Things"
   ]
  },
  {
   "cell_type": "markdown",
   "id": "8704f238-9095-43ac-9900-7b3ccfbd3df4",
   "metadata": {
    "slideshow": {
     "slide_type": "slide"
    },
    "tags": []
   },
   "source": [
    "**f-strings** let you interpolate, or dynamically insert, strings in other strings"
   ]
  },
  {
   "cell_type": "code",
   "execution_count": 20,
   "id": "4488eef6-d923-4f2d-ad8b-1999dfc741e7",
   "metadata": {},
   "outputs": [],
   "source": [
    "instr1 = 'Brad'\n",
    "instr2 = 'Ethan'\n",
    "n_days = 4\n",
    "my_str = f'{instr1} and {instr2} teach a {n_days}-day Python workshop.'"
   ]
  },
  {
   "cell_type": "code",
   "execution_count": 21,
   "id": "61777622-e972-47bf-b5f1-8922290405e6",
   "metadata": {},
   "outputs": [
    {
     "name": "stdout",
     "output_type": "stream",
     "text": [
      "Brad and Ethan teach a 4-day Python workshop.\n"
     ]
    }
   ],
   "source": [
    "print(my_str)"
   ]
  },
  {
   "cell_type": "markdown",
   "id": "61f0e25a-22e4-4be1-8a50-0f9cb973c253",
   "metadata": {
    "slideshow": {
     "slide_type": "slide"
    },
    "tags": []
   },
   "source": [
    "You can easily make histograms and scatterplots with DataFrames."
   ]
  },
  {
   "cell_type": "code",
   "execution_count": 30,
   "id": "564d9aec-c968-4ab5-9b9b-e3c0b5bd9079",
   "metadata": {},
   "outputs": [
    {
     "data": {
      "image/png": "[encoded data removed]",
      "text/plain": [
       "<Figure size 432x288 with 4 Axes>"
      ]
     },
     "metadata": {
      "needs_background": "light"
     },
     "output_type": "display_data"
    }
   ],
   "source": [
    "planes_df.hist();"
   ]
  },
  {
   "cell_type": "code",
   "execution_count": 34,
   "id": "0b0e231b-c9b8-4144-bd43-60c177329178",
   "metadata": {},
   "outputs": [
    {
     "data": {
      "image/png": "[encoded data removed]",
      "text/plain": [
       "<Figure size 432x288 with 1 Axes>"
      ]
     },
     "metadata": {
      "needs_background": "light"
     },
     "output_type": "display_data"
    }
   ],
   "source": [
    "planes_df.plot.scatter('seats', 'year');"
   ]
  },
  {
   "cell_type": "markdown",
   "id": "8e1a9a08-96fc-45a8-b101-a7478c0f05f7",
   "metadata": {},
   "source": [
    "**Functions** are reusable code blocks that can be \"called\" from other code. They typically *return* a value, which the calling code can use."
   ]
  },
  {
   "cell_type": "code",
   "execution_count": 35,
   "id": "a3739a65-d6a2-4a41-acbc-5dc9bd17a40d",
   "metadata": {},
   "outputs": [],
   "source": [
    "def compute_triangle_area(base, height):\n",
    "    return base * height / 2"
   ]
  },
  {
   "cell_type": "code",
   "execution_count": 37,
   "id": "24c7cdb0-fa41-4f25-907c-702e2113fbeb",
   "metadata": {},
   "outputs": [
    {
     "name": "stdout",
     "output_type": "stream",
     "text": [
      "6.0\n"
     ]
    }
   ],
   "source": [
    "my_triangle_base = 3\n",
    "my_triangle_height = 4\n",
    "print(compute_triangle_area(my_triangle_base, my_triangle_height))"
   ]
  },
  {
   "cell_type": "markdown",
   "id": "61cd0380-e5bc-41cb-84e0-4d0635803ec0",
   "metadata": {
    "slideshow": {
     "slide_type": "slide"
    },
    "tags": []
   },
   "source": [
    "We use **Conda** to manage environments in Python.\n",
    "- It lets us manage the interdependencies of various packages on our computer\n",
    "- We usually use a separate environment for each big Python project that we do."
   ]
  },
  {
   "cell_type": "markdown",
   "id": "bade1b77",
   "metadata": {
    "slideshow": {
     "slide_type": "slide"
    }
   },
   "source": [
    "## Questions"
   ]
  }
 ],
 "metadata": {
  "kernelspec": {
   "display_name": "uc-python",
   "language": "python",
   "name": "uc-python"
  },
  "language_info": {
   "codemirror_mode": {
    "name": "ipython",
    "version": 3
   },
   "file_extension": ".py",
   "mimetype": "text/x-python",
   "name": "python",
   "nbconvert_exporter": "python",
   "pygments_lexer": "ipython3",
   "version": "3.9.7"
  }
 },
 "nbformat": 4,
 "nbformat_minor": 5
}
