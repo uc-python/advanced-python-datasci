{
 "cells": [
  {
   "cell_type": "markdown",
   "id": "21e38b21-6a98-49fe-a658-169ac7dde1bf",
   "metadata": {
    "slideshow": {
     "slide_type": "slide"
    },
    "tags": []
   },
   "source": [
    "# ML Lifecycle Management\n",
    "\n",
    "> _\"Hardest Part of ML isn’t ML, it’s Data\"_\n",
    "\n",
    "![Hardest part of ML](images/mlflow_tech_icon.png)\n",
    "\n",
    "[Hidden Technical Debt in Machine Learning Systems](http://papers.neurips.cc/paper/5656-hidden-technical-debt-in-machine-learning-systems.pdf) (Google NIPS, 2015)  "
   ]
  },
  {
   "cell_type": "markdown",
   "id": "1deb91cc-22b7-4627-bafb-90ebeb59c539",
   "metadata": {
    "slideshow": {
     "slide_type": "slide"
    },
    "tags": []
   },
   "source": [
    "## Objective\n",
    "\n",
    "This module is going to introduce you to [MLflow](https://mlflow.org/docs/latest/index.html) for machine learning lifecycle management. We will introduce you to MLflow for... \n",
    "\n",
    "1. managing model experiments,\n",
    "1. tracking hyperparameter tuning,\n",
    "1. registering and serving models."
   ]
  },
  {
   "cell_type": "markdown",
   "id": "6766f1bf-f670-4b9e-a5d3-16fe7b908d0b",
   "metadata": {
    "slideshow": {
     "slide_type": "fragment"
    },
    "tags": []
   },
   "source": [
    "MLflow is a very comprehensive tool so we are just going to touch the surface. However, we will provide you with resources to dig deeper into MLflow."
   ]
  },
  {
   "cell_type": "markdown",
   "id": "c404e626-7f57-41c3-a0f5-e1cb59905502",
   "metadata": {
    "slideshow": {
     "slide_type": "slide"
    },
    "tags": []
   },
   "source": [
    "## Problem\n",
    "\n",
    "The ML process can be tedious, difficult, and result in lots of technical debt.\n",
    "\n",
    "* How do we ***track***...\n",
    "  - model runs\n",
    "  - hyperparameter experimentations\n",
    "  - performance metrics"
   ]
  },
  {
   "cell_type": "markdown",
   "id": "e234954e-7713-490d-9e6f-525c89de5025",
   "metadata": {
    "slideshow": {
     "slide_type": "fragment"
    },
    "tags": []
   },
   "source": [
    "* How do we manage ML ***projects*** for...\n",
    "  - reproducibility\n",
    "  - collaboration"
   ]
  },
  {
   "cell_type": "markdown",
   "id": "c521afdd-aafc-4e4c-8b18-34c7c67f8e6f",
   "metadata": {
    "slideshow": {
     "slide_type": "fragment"
    },
    "tags": []
   },
   "source": [
    "* How do we package ML ***models*** for downstream deployment"
   ]
  },
  {
   "cell_type": "markdown",
   "id": "37fdf7c9-6c3a-46ab-a8fb-bd8d8466f3de",
   "metadata": {
    "slideshow": {
     "slide_type": "fragment"
    },
    "tags": []
   },
   "source": [
    "* How do we ***register*** models for managing...\n",
    "  - model lineage\n",
    "  - model versioning\n",
    "  - stage transitions (i.e. dev to stage to prod)"
   ]
  },
  {
   "cell_type": "markdown",
   "id": "2fde6edc-f728-4fae-ba22-cc60910072aa",
   "metadata": {
    "slideshow": {
     "slide_type": "slide"
    },
    "tags": []
   },
   "source": [
    "## Intro to MLflow\n",
    "\n",
    "MLflow is an open source platform designed to manage the complete Machine Learning Lifecycle.\n",
    "\n",
    "![](images/mlflow_capabilities.png)"
   ]
  },
  {
   "cell_type": "markdown",
   "id": "f106ea61-8f8d-4cf6-a502-2be41b5dc963",
   "metadata": {
    "slideshow": {
     "slide_type": "fragment"
    },
    "tags": []
   },
   "source": [
    "* Used heavily --> 1.7M+ monthly downloads\n",
    "* Well supported --> 170+ contributors & 40 contributing organizations\n",
    "* Well documented\n",
    "   - [mlflow.org](https://mlflow.org/)\n",
    "   - [github.com/mlflow](https://github.com/mlflow)\n",
    "   - [Slack channel](https://join.slack.com/t/mlflow-users/shared_invite/zt-g6qwro5u-odM7pRnZxNX_w56mcsHp8g)\n",
    "   - [stackoverflow.com/questions/tagged/mlflow](https://stackoverflow.com/questions/tagged/mlflow)\n",
    "   - [twitter.com/MLflow](https://twitter.com/MLflow)\n",
    "   - [databricks.com/mlflow](https://databricks.com/product/managed-mlflow)"
   ]
  },
  {
   "cell_type": "markdown",
   "id": "6ed0c49b-bb14-418c-a934-84914da34e07",
   "metadata": {
    "slideshow": {
     "slide_type": "slide"
    },
    "tags": []
   },
   "source": [
    "## Model Tracking\n",
    "\n",
    "Key concepts in tracking:\n",
    "\n",
    "* __Date/time:__ Start and end time of each model run.\n",
    "* __Paramaters:__ Key-value inputs to your code.\n",
    "* __Metrics:__ Numeric values to track how your model’s loss function is converging.\n",
    "* __Artifacts:__ Output files in any format, including models.\n",
    "* __Source:__ what code ran?"
   ]
  },
  {
   "cell_type": "markdown",
   "id": "2808da7c-c995-4221-8729-4aab5d5f52f6",
   "metadata": {
    "slideshow": {
     "slide_type": "fragment"
    },
    "tags": []
   },
   "source": [
    "There are several ways to record your modeling experiment:\n",
    "\n",
    "- SQLAlchemy compatible database\n",
    "- remotely to a tracking server\n",
    "- __locally__"
   ]
  },
  {
   "cell_type": "markdown",
   "id": "c697d3a0-ef26-4ef6-8088-48724c6e6ec9",
   "metadata": {
    "slideshow": {
     "slide_type": "slide"
    },
    "tags": []
   },
   "source": [
    "Let's create an experiment:"
   ]
  },
  {
   "cell_type": "code",
   "execution_count": 1,
   "id": "d3f24e2c-910d-433a-9969-03bb497daec5",
   "metadata": {},
   "outputs": [
    {
     "name": "stderr",
     "output_type": "stream",
     "text": [
      "2021/12/29 10:58:43 INFO mlflow.tracking.fluent: Experiment with name 'Predicting income' does not exist. Creating a new experiment.\n"
     ]
    },
    {
     "data": {
      "text/plain": [
       "<Experiment: artifact_location='file:///Users/bradley.boehmke/Desktop/workspace/trainings/advanced-python-datasci/notebooks/mlruns/1', experiment_id='1', lifecycle_stage='active', name='Predicting income', tags={}>"
      ]
     },
     "execution_count": 1,
     "metadata": {},
     "output_type": "execute_result"
    }
   ],
   "source": [
    "import mlflow\n",
    "\n",
    "experiment = mlflow.set_experiment(\"Predicting income\")"
   ]
  },
  {
   "cell_type": "markdown",
   "id": "88389d78-5056-4472-9122-6c2aa07cd15e",
   "metadata": {
    "slideshow": {
     "slide_type": "fragment"
    },
    "tags": []
   },
   "source": [
    "<div class=\"admonition tip alert alert-warning\">\n",
    "    <p class=\"first admonition-title\" style=\"font-weight: bold;\"><b>Tip</b></p>\n",
    "    <p class=\"last\"><tt class=\"docutils literal\">set_experiment</tt> will create and set an experiment if the experiment does not already exist.</p>\n",
    "</ul>\n",
    "</div>"
   ]
  },
  {
   "cell_type": "markdown",
   "id": "bd7b79a9-d06f-4a88-a7d9-66a5ae3d763f",
   "metadata": {
    "slideshow": {
     "slide_type": "slide"
    },
    "tags": []
   },
   "source": [
    "Note the new local `mlruns/` directory:\n",
    "    \n",
    "![mlruns directory](images/mlruns_directory.png)"
   ]
  },
  {
   "cell_type": "markdown",
   "id": "e4962ecd-0b38-4c0c-a7ce-099b1d6fe035",
   "metadata": {
    "slideshow": {
     "slide_type": "slide"
    },
    "tags": []
   },
   "source": [
    "Before we record a model run let's import and prepare our data:"
   ]
  },
  {
   "cell_type": "code",
   "execution_count": 2,
   "id": "f7b651cf-a27f-49a3-b6f5-f174a6c33316",
   "metadata": {},
   "outputs": [],
   "source": [
    "# packages used\n",
    "import pandas as pd\n",
    "from sklearn.model_selection import train_test_split\n",
    "from sklearn.compose import make_column_selector as selector\n",
    "from sklearn.preprocessing import StandardScaler\n",
    "from sklearn.preprocessing import OneHotEncoder\n",
    "from sklearn.compose import ColumnTransformer\n",
    "\n",
    "# import data\n",
    "adult_census = pd.read_csv('../data/adult-census.csv')\n",
    "\n",
    "# separate feature & target data\n",
    "target = adult_census['class']\n",
    "features = adult_census.drop(columns='class')\n",
    "\n",
    "# drop the duplicated column `\"education-num\"` as stated in the data exploration notebook\n",
    "features = features.drop(columns='education-num')\n",
    "\n",
    "# split into train & test sets\n",
    "X_train, X_test, y_train, y_test = train_test_split(features, target, random_state=123)\n",
    "\n",
    "# create selector object based on data type\n",
    "numerical_columns_selector = selector(dtype_exclude=object)\n",
    "categorical_columns_selector = selector(dtype_include=object)\n",
    "\n",
    "# get columns of interest\n",
    "numerical_columns = numerical_columns_selector(features)\n",
    "categorical_columns = categorical_columns_selector(features)\n",
    "\n",
    "# preprocessors to handle numeric and categorical features\n",
    "numerical_preprocessor = StandardScaler()\n",
    "categorical_preprocessor = OneHotEncoder(handle_unknown=\"ignore\")\n",
    "\n",
    "preprocessor = ColumnTransformer([\n",
    "    ('one-hot-encoder', categorical_preprocessor, categorical_columns),\n",
    "    ('standard_scaler', numerical_preprocessor, numerical_columns)\n",
    "])"
   ]
  },
  {
   "cell_type": "markdown",
   "id": "fffe6f9f-fe2f-43f3-971a-b02cfa6a1c42",
   "metadata": {
    "slideshow": {
     "slide_type": "slide"
    },
    "tags": []
   },
   "source": [
    "To log a model run we use `start_run()` along with various other logging functions:\n",
    "\n",
    "- `log_param(s)`: to log parameters of interest\n",
    "- `log_metrics(s)`: to log model metrics of interest\n",
    "- `set_tag(s)`: to log decsriptive information (version number, platform ran on, etc.)\n",
    "- `log_artifact(s)`: allows you to log items such as data, models, files, etc."
   ]
  },
  {
   "cell_type": "code",
   "execution_count": 3,
   "id": "267a48fb-f123-46c2-a402-012aff54c23e",
   "metadata": {},
   "outputs": [],
   "source": [
    "from sklearn.linear_model import LogisticRegression\n",
    "from sklearn.pipeline import make_pipeline\n",
    "\n",
    "\n",
    "mlflow.start_run(run_name='first_mlflow_run')\n",
    "\n",
    "mlflow.log_param('max_iter', 500)\n",
    "model = make_pipeline(preprocessor, LogisticRegression(max_iter=500))\n",
    "\n",
    "_ = model.fit(X_train, y_train)\n",
    "\n",
    "accuracy = model.score(X_test, y_test)\n",
    "mlflow.log_metric('accuracy', accuracy)\n",
    "\n",
    "mlflow.end_run()"
   ]
  },
  {
   "cell_type": "markdown",
   "id": "879747c6-109f-4004-a7a0-9f2a0b36bb7b",
   "metadata": {
    "slideshow": {
     "slide_type": "slide"
    },
    "tags": []
   },
   "source": [
    "A more common approach you'll see is to use `start_run()` as a [context manager](https://book.pythontips.com/en/latest/context_managers.html)."
   ]
  },
  {
   "cell_type": "code",
   "execution_count": 4,
   "id": "34e2859a-44a0-4768-bef6-43bfffe7f98a",
   "metadata": {},
   "outputs": [],
   "source": [
    "with mlflow.start_run(run_name='run_as_context_mgr') as run:\n",
    "\n",
    "    mlflow.log_param('max_iter', 500)\n",
    "    model = make_pipeline(preprocessor, LogisticRegression(max_iter=500))\n",
    "\n",
    "    _ = model.fit(X_train, y_train)\n",
    "\n",
    "    accuracy = model.score(X_test, y_test)\n",
    "    mlflow.log_metric('accuracy', accuracy)"
   ]
  },
  {
   "cell_type": "markdown",
   "id": "56e321aa-511c-4bd5-b7cf-1a01402f29d7",
   "metadata": {
    "slideshow": {
     "slide_type": "slide"
    },
    "tags": []
   },
   "source": [
    "<div class=\"admonition tip alert alert-warning\">\n",
    "    <p class=\"first admonition-title\" style=\"font-weight: bold;\"><b>Question?</b></p>\n",
    "<p class=\"last\">\n",
    "What other useful information could we log?\n",
    "</p>\n",
    "</div>"
   ]
  },
  {
   "cell_type": "markdown",
   "id": "e7b40867-a4d7-4d66-84f7-488f03d9ffd8",
   "metadata": {
    "slideshow": {
     "slide_type": "fragment"
    },
    "tags": []
   },
   "source": [
    "The following also logs the model type and the model itself as an artifact"
   ]
  },
  {
   "cell_type": "code",
   "execution_count": 5,
   "id": "48731087-ff2a-4260-a539-b2423b01642f",
   "metadata": {},
   "outputs": [],
   "source": [
    "with mlflow.start_run(run_name='baseline_model') as run:\n",
    "\n",
    "    mlflow.set_tag('Estimator', 'LogisticRegression')\n",
    "    mlflow.log_param('max_iter', 500)\n",
    "    model = make_pipeline(preprocessor, LogisticRegression(max_iter=500))\n",
    "\n",
    "    _ = model.fit(X_train, y_train)\n",
    "    mlflow.sklearn.log_model(model, 'baseline_model')\n",
    "\n",
    "    accuracy = model.score(X_test, y_test)\n",
    "    mlflow.log_metric('accuracy', accuracy)"
   ]
  },
  {
   "cell_type": "markdown",
   "id": "725120fb-29cd-48bf-b24e-6afb6bf1e6c0",
   "metadata": {
    "slideshow": {
     "slide_type": "slide"
    },
    "tags": []
   },
   "source": [
    "<div class=\"admonition tip alert alert-warning\">\n",
    "    <p class=\"first admonition-title\" style=\"font-weight: bold;\"><b>Your Turn</b></p>\n",
    "<p class=\"last\">\n",
    "    Log a model run using <tt class=\"docutils literal\">KNeighborsClassifier()</tt> as a classifier. Pick one or more parameters to log (i.e. <tt class=\"docutils literal\">n_neighbors</tt>. Record the ROC AUC metric using <tt class=\"docutils literal\">sklearn.metrics.roc_auc_score</tt>.\n",
    "</p>\n",
    "</div>"
   ]
  },
  {
   "cell_type": "markdown",
   "id": "728a826b-d22f-4fa5-bce8-4e1724e3baf6",
   "metadata": {
    "slideshow": {
     "slide_type": "slide"
    },
    "tags": []
   },
   "source": [
    "## MLflow UI"
   ]
  },
  {
   "cell_type": "markdown",
   "id": "89b29c75-4a83-4cca-ad64-b3ceea8717fe",
   "metadata": {},
   "source": [
    "We can programmatically retrieve our model run information but MLflow also provides a very nice UI that displays information.\n",
    "\n",
    "- Remove the `#` from the following line of code\n",
    "- Click on the local URL provided\n",
    "\n",
    "![Launch MLflow UI](images/local_url.png)"
   ]
  },
  {
   "cell_type": "code",
   "execution_count": 7,
   "id": "70a60c8e-7a36-4cd0-a1f4-bbf3ff66088f",
   "metadata": {
    "slideshow": {
     "slide_type": "fragment"
    },
    "tags": []
   },
   "outputs": [],
   "source": [
    "#!mlflow ui"
   ]
  },
  {
   "cell_type": "markdown",
   "id": "5ae20967-e258-42bd-862b-3f0d60a9b146",
   "metadata": {},
   "source": [
    "<div class=\"admonition warning alert alert-danger\">\n",
    "    <p class=\"first admonition-title\" style=\"font-weight: bold;\"><b>Warning</b></p>\n",
    "<p class=\"last\">You'll need to stop the previous code cell when you are done viewing the MLflow UI.\n",
    "</p>\n",
    "</div>"
   ]
  },
  {
   "cell_type": "markdown",
   "id": "84c43af1-761e-42a2-ba47-60b030aca429",
   "metadata": {
    "slideshow": {
     "slide_type": "slide"
    },
    "tags": []
   },
   "source": [
    "## Auto logging\n",
    "\n",
    "MLflow has built-in [auto logging](https://www.mlflow.org/docs/latest/tracking.html#automatic-logging) for many common model libraries:\n",
    "\n",
    "- Scikit-learn\n",
    "- TensorFlow & Keras\n",
    "- XGBoost\n",
    "- Spark ML\n",
    "- Pytorch\n",
    "- etc."
   ]
  },
  {
   "cell_type": "markdown",
   "id": "8e912618-9268-4f72-8a79-78ceca097ef9",
   "metadata": {
    "slideshow": {
     "slide_type": "slide"
    },
    "tags": []
   },
   "source": [
    "This can simplify our logging.\n",
    "\n",
    "For example, the built in `sklearn.autolog` functionality will automatically log:\n",
    "\n",
    "- Training score obtained by `estimator.score`\n",
    "- Parameters obtained by `estimator.get_params`\n",
    "- Model class name\n",
    "- Fitted estimator as an artifact"
   ]
  },
  {
   "cell_type": "code",
   "execution_count": 8,
   "id": "3fcee520-6a5d-48b2-bf32-2f0c94c0e684",
   "metadata": {
    "collapsed": true,
    "jupyter": {
     "outputs_hidden": true
    },
    "tags": []
   },
   "outputs": [
    {
     "name": "stderr",
     "output_type": "stream",
     "text": [
      "2021/12/29 10:59:45 WARNING mlflow.utils: Truncated the value of the key `steps`. Truncated value: `[('columntransformer', ColumnTransformer(transformers=[('one-hot-encoder',\n",
      "                                 OneHotEncoder(handle_unknown='ignore'),\n",
      "                                 ['workclass', 'education', 'marital-status',\n",
      "                     ...`\n",
      "2021/12/29 10:59:45 WARNING mlflow.utils: Truncated the value of the key `columntransformer`. Truncated value: `ColumnTransformer(transformers=[('one-hot-encoder',\n",
      "                                 OneHotEncoder(handle_unknown='ignore'),\n",
      "                                 ['workclass', 'education', 'marital-status',\n",
      "                                  'occupatio...`\n",
      "2021/12/29 10:59:45 WARNING mlflow.utils: Truncated the value of the key `columntransformer__transformers`. Truncated value: `[('one-hot-encoder', OneHotEncoder(handle_unknown='ignore'), ['workclass', 'education', 'marital-status', 'occupation', 'relationship', 'race', 'sex', 'native-country']), ('standard_scaler', StandardScaler(), ['age', 'capital-gain', 'capital-loss'...`\n",
      "2021/12/29 10:59:47 WARNING mlflow.utils.autologging_utils: MLflow autologging encountered a warning: \"/Users/bradley.boehmke/Downloads/ENTER/envs/uc-python/lib/python3.8/site-packages/mlflow/models/signature.py:129: UserWarning: Hint: Inferred schema contains integer column(s). Integer columns in Python cannot represent missing values. If your input data contains missing values at inference time, it will be encoded as floats and will cause a schema enforcement error. The best way to avoid this problem is to infer the model schema based on a realistic data sample (training dataset) that includes missing values. Alternatively, you can declare integer columns as doubles (float64) whenever these columns may have missing values. See `Handling Integers With Missing Values <https://www.mlflow.org/docs/latest/models.html#handling-integers-with-missing-values>`_ for more details.\"\n"
     ]
    }
   ],
   "source": [
    "# enable autologging\n",
    "mlflow.sklearn.autolog()\n",
    "\n",
    "with mlflow.start_run(run_name='autolog_run') as run:\n",
    "\n",
    "    model = make_pipeline(preprocessor, LogisticRegression(max_iter=500))\n",
    "    _ = model.fit(X_train, y_train)\n",
    "\n",
    "    mlflow.log_metric('test_accuracy', model.score(X_test, y_test))"
   ]
  },
  {
   "cell_type": "markdown",
   "id": "cb4d8d93-4b9c-4ce3-849c-40a26ca9054c",
   "metadata": {
    "slideshow": {
     "slide_type": "slide"
    },
    "tags": []
   },
   "source": [
    "Let's check out this auto-logged run in the UI. You'll notice some additional information logged."
   ]
  },
  {
   "cell_type": "code",
   "execution_count": 11,
   "id": "bfe17750-67cf-4872-85de-87991d3391fb",
   "metadata": {},
   "outputs": [],
   "source": [
    "#!mlflow ui"
   ]
  },
  {
   "cell_type": "markdown",
   "id": "9e8d92d3-737f-4e37-8041-61f2e2b9dd59",
   "metadata": {
    "slideshow": {
     "slide_type": "slide"
    },
    "tags": []
   },
   "source": [
    "<div class=\"admonition tip alert alert-warning\">\n",
    "    <p class=\"first admonition-title\" style=\"font-weight: bold;\"><b>Your Turn</b></p>\n",
    "<p class=\"last\">\n",
    "    Re-run the <tt class=\"docutils literal\">KNeighborsClassifier()</tt> classifier model from the previous your turn; however, use <tt class=\"docutils literal\">mlflow.sklearn.autolog</tt> for autologging.\n",
    "</p>\n",
    "</div>"
   ]
  },
  {
   "cell_type": "markdown",
   "id": "81b27242-501a-4d86-bf44-11f2c36fae69",
   "metadata": {
    "slideshow": {
     "slide_type": "slide"
    },
    "tags": []
   },
   "source": [
    "## Hyperparameter tuning"
   ]
  },
  {
   "cell_type": "markdown",
   "id": "a52bcbc9-6600-4c64-95b4-d28765dbdc6a",
   "metadata": {},
   "source": [
    "So far, we've just been logging individual runs.\n",
    "\n",
    "However, MLflow makes it easy to track hyperparameter search experiments:"
   ]
  },
  {
   "cell_type": "code",
   "execution_count": 9,
   "id": "254d1e42-9653-4b96-8eb5-87e1d38df33d",
   "metadata": {
    "collapsed": true,
    "jupyter": {
     "outputs_hidden": true
    },
    "slideshow": {
     "slide_type": "fragment"
    },
    "tags": []
   },
   "outputs": [
    {
     "name": "stderr",
     "output_type": "stream",
     "text": [
      "2021/12/29 10:59:55 WARNING mlflow.utils: Truncated the value of the key `estimator`. Truncated value: `Pipeline(steps=[('preprocessor',\n",
      "                 ColumnTransformer(transformers=[('one-hot-encoder',\n",
      "                                                  OneHotEncoder(handle_unknown='ignore'),\n",
      "                                                  ['wor...`\n",
      "2021/12/29 11:04:40 WARNING mlflow.utils.autologging_utils: MLflow autologging encountered a warning: \"/Users/bradley.boehmke/Downloads/ENTER/envs/uc-python/lib/python3.8/site-packages/mlflow/models/signature.py:129: UserWarning: Hint: Inferred schema contains integer column(s). Integer columns in Python cannot represent missing values. If your input data contains missing values at inference time, it will be encoded as floats and will cause a schema enforcement error. The best way to avoid this problem is to infer the model schema based on a realistic data sample (training dataset) that includes missing values. Alternatively, you can declare integer columns as doubles (float64) whenever these columns may have missing values. See `Handling Integers With Missing Values <https://www.mlflow.org/docs/latest/models.html#handling-integers-with-missing-values>`_ for more details.\"\n",
      "2021/12/29 11:04:41 INFO mlflow.sklearn.utils: Logging the 5 best runs, no runs will be omitted.\n",
      "2021/12/29 11:04:41 WARNING mlflow.utils: Truncated the value of the key `steps`. Truncated value: `[('preprocessor', ColumnTransformer(transformers=[('one-hot-encoder',\n",
      "                                 OneHotEncoder(handle_unknown='ignore'),\n",
      "                                 ['workclass', 'education', 'marital-status',\n",
      "                          ...`\n",
      "2021/12/29 11:04:41 WARNING mlflow.utils: Truncated the value of the key `preprocessor`. Truncated value: `ColumnTransformer(transformers=[('one-hot-encoder',\n",
      "                                 OneHotEncoder(handle_unknown='ignore'),\n",
      "                                 ['workclass', 'education', 'marital-status',\n",
      "                                  'occupatio...`\n",
      "2021/12/29 11:04:41 WARNING mlflow.utils: Truncated the value of the key `preprocessor__transformers`. Truncated value: `[('one-hot-encoder', OneHotEncoder(handle_unknown='ignore'), ['workclass', 'education', 'marital-status', 'occupation', 'relationship', 'race', 'sex', 'native-country']), ('standard_scaler', StandardScaler(), ['age', 'capital-gain', 'capital-loss'...`\n",
      "2021/12/29 11:04:41 WARNING mlflow.utils: Truncated the value of the key `steps`. Truncated value: `[('preprocessor', ColumnTransformer(transformers=[('one-hot-encoder',\n",
      "                                 OneHotEncoder(handle_unknown='ignore'),\n",
      "                                 ['workclass', 'education', 'marital-status',\n",
      "                          ...`\n",
      "2021/12/29 11:04:41 WARNING mlflow.utils: Truncated the value of the key `preprocessor`. Truncated value: `ColumnTransformer(transformers=[('one-hot-encoder',\n",
      "                                 OneHotEncoder(handle_unknown='ignore'),\n",
      "                                 ['workclass', 'education', 'marital-status',\n",
      "                                  'occupatio...`\n",
      "2021/12/29 11:04:41 WARNING mlflow.utils: Truncated the value of the key `preprocessor__transformers`. Truncated value: `[('one-hot-encoder', OneHotEncoder(handle_unknown='ignore'), ['workclass', 'education', 'marital-status', 'occupation', 'relationship', 'race', 'sex', 'native-country']), ('standard_scaler', StandardScaler(), ['age', 'capital-gain', 'capital-loss'...`\n",
      "2021/12/29 11:04:41 WARNING mlflow.utils: Truncated the value of the key `steps`. Truncated value: `[('preprocessor', ColumnTransformer(transformers=[('one-hot-encoder',\n",
      "                                 OneHotEncoder(handle_unknown='ignore'),\n",
      "                                 ['workclass', 'education', 'marital-status',\n",
      "                          ...`\n",
      "2021/12/29 11:04:41 WARNING mlflow.utils: Truncated the value of the key `preprocessor`. Truncated value: `ColumnTransformer(transformers=[('one-hot-encoder',\n",
      "                                 OneHotEncoder(handle_unknown='ignore'),\n",
      "                                 ['workclass', 'education', 'marital-status',\n",
      "                                  'occupatio...`\n",
      "2021/12/29 11:04:41 WARNING mlflow.utils: Truncated the value of the key `preprocessor__transformers`. Truncated value: `[('one-hot-encoder', OneHotEncoder(handle_unknown='ignore'), ['workclass', 'education', 'marital-status', 'occupation', 'relationship', 'race', 'sex', 'native-country']), ('standard_scaler', StandardScaler(), ['age', 'capital-gain', 'capital-loss'...`\n",
      "2021/12/29 11:04:41 WARNING mlflow.utils: Truncated the value of the key `steps`. Truncated value: `[('preprocessor', ColumnTransformer(transformers=[('one-hot-encoder',\n",
      "                                 OneHotEncoder(handle_unknown='ignore'),\n",
      "                                 ['workclass', 'education', 'marital-status',\n",
      "                          ...`\n",
      "2021/12/29 11:04:41 WARNING mlflow.utils: Truncated the value of the key `preprocessor`. Truncated value: `ColumnTransformer(transformers=[('one-hot-encoder',\n",
      "                                 OneHotEncoder(handle_unknown='ignore'),\n",
      "                                 ['workclass', 'education', 'marital-status',\n",
      "                                  'occupatio...`\n",
      "2021/12/29 11:04:41 WARNING mlflow.utils: Truncated the value of the key `preprocessor__transformers`. Truncated value: `[('one-hot-encoder', OneHotEncoder(handle_unknown='ignore'), ['workclass', 'education', 'marital-status', 'occupation', 'relationship', 'race', 'sex', 'native-country']), ('standard_scaler', StandardScaler(), ['age', 'capital-gain', 'capital-loss'...`\n"
     ]
    }
   ],
   "source": [
    "from sklearn.model_selection import GridSearchCV\n",
    "from sklearn.neighbors import KNeighborsClassifier\n",
    "from sklearn.pipeline import Pipeline\n",
    "\n",
    "# basic model object\n",
    "knn = KNeighborsClassifier()\n",
    "\n",
    "# Create grid of hyperparameter values\n",
    "hyper_grid = {'knn__n_neighbors': [5, 10, 15, 20]}\n",
    "\n",
    "# create preprocessor & modeling pipeline\n",
    "pipeline = Pipeline([('preprocessor', preprocessor), ('knn', knn)])\n",
    "\n",
    "# enable autologging\n",
    "mlflow.sklearn.autolog()\n",
    "\n",
    "with mlflow.start_run(run_name='knn_grid_search') as run:\n",
    "    # Tune a knn model using grid search\n",
    "    grid_search = GridSearchCV(pipeline, hyper_grid, cv=5, scoring='roc_auc', n_jobs=-1)\n",
    "    results = grid_search.fit(X_train, y_train)"
   ]
  },
  {
   "cell_type": "markdown",
   "id": "8fc3ea08-abad-4e43-adf9-94a68890e3fe",
   "metadata": {
    "slideshow": {
     "slide_type": "slide"
    },
    "tags": []
   },
   "source": [
    "If we look at the MLflow UI we'll notice that autologging a parameter search results in a single parent run and nested child runs, which contains:\n",
    "\n",
    "* Parent\n",
    "   - Training score\n",
    "   - Best parameter combination\n",
    "   - Fitted best estimator\n",
    "   - and more\n",
    "* Child\n",
    "   - CV test score for each parameter combination"
   ]
  },
  {
   "cell_type": "code",
   "execution_count": 19,
   "id": "9c6f446c-7a31-4c92-a9ef-8644aa50cefb",
   "metadata": {},
   "outputs": [],
   "source": [
    "#!mlflow ui"
   ]
  },
  {
   "cell_type": "markdown",
   "id": "240f62f0-3864-459c-80bc-41354105b5ac",
   "metadata": {
    "slideshow": {
     "slide_type": "slide"
    },
    "tags": []
   },
   "source": [
    "<div class=\"admonition tip alert alert-warning\">\n",
    "    <p class=\"first admonition-title\" style=\"font-weight: bold;\"><b>Your Turn</b></p>\n",
    "<p class=\"last\">\n",
    "    Based on the results we found, run another grid search with adjusted <tt class=\"docutils literal\">n_neighbors</tt> and see if the results improve.\n",
    "</p>\n",
    "</div>"
   ]
  },
  {
   "cell_type": "markdown",
   "id": "b7327a47-3273-4d2a-9173-00e9a753ad9c",
   "metadata": {
    "slideshow": {
     "slide_type": "slide"
    },
    "tags": []
   },
   "source": [
    "## Accessing run information\n",
    "\n",
    "We can programmatically access our mlflow run information:"
   ]
  },
  {
   "cell_type": "code",
   "execution_count": 11,
   "id": "14a7369d-2454-4923-a0bb-4c2de0702f00",
   "metadata": {},
   "outputs": [
    {
     "data": {
      "text/html": [
       "<div>\n",
       "<style scoped>\n",
       "    .dataframe tbody tr th:only-of-type {\n",
       "        vertical-align: middle;\n",
       "    }\n",
       "\n",
       "    .dataframe tbody tr th {\n",
       "        vertical-align: top;\n",
       "    }\n",
       "\n",
       "    .dataframe thead th {\n",
       "        text-align: right;\n",
       "    }\n",
       "</style>\n",
       "<table border=\"1\" class=\"dataframe\">\n",
       "  <thead>\n",
       "    <tr style=\"text-align: right;\">\n",
       "      <th></th>\n",
       "      <th>run_id</th>\n",
       "      <th>experiment_id</th>\n",
       "      <th>status</th>\n",
       "      <th>artifact_uri</th>\n",
       "      <th>start_time</th>\n",
       "      <th>end_time</th>\n",
       "      <th>metrics.std_score_time</th>\n",
       "      <th>metrics.rank_test_score</th>\n",
       "      <th>metrics.mean_score_time</th>\n",
       "      <th>metrics.mean_fit_time</th>\n",
       "      <th>...</th>\n",
       "      <th>tags.mlflow.autologging</th>\n",
       "      <th>tags.mlflow.parentRunId</th>\n",
       "      <th>tags.mlflow.user</th>\n",
       "      <th>tags.mlflow.source.name</th>\n",
       "      <th>tags.estimator_name</th>\n",
       "      <th>tags.mlflow.source.type</th>\n",
       "      <th>tags.estimator_class</th>\n",
       "      <th>tags.mlflow.log-model.history</th>\n",
       "      <th>tags.mlflow.runName</th>\n",
       "      <th>tags.Estimator</th>\n",
       "    </tr>\n",
       "  </thead>\n",
       "  <tbody>\n",
       "    <tr>\n",
       "      <th>0</th>\n",
       "      <td>448506ac88724441ae908796af21c51b</td>\n",
       "      <td>1</td>\n",
       "      <td>FINISHED</td>\n",
       "      <td>file:///Users/bradley.boehmke/Desktop/workspac...</td>\n",
       "      <td>2021-12-29 15:59:55.663000+00:00</td>\n",
       "      <td>2021-12-29 16:04:41.955000+00:00</td>\n",
       "      <td>0.241726</td>\n",
       "      <td>2.0</td>\n",
       "      <td>8.534959</td>\n",
       "      <td>0.066297</td>\n",
       "      <td>...</td>\n",
       "      <td>sklearn</td>\n",
       "      <td>658f56509691443e91201f10cc71bbd9</td>\n",
       "      <td>bradley.boehmke</td>\n",
       "      <td>/Users/bradley.boehmke/Downloads/ENTER/envs/uc...</td>\n",
       "      <td>Pipeline</td>\n",
       "      <td>LOCAL</td>\n",
       "      <td>sklearn.pipeline.Pipeline</td>\n",
       "      <td>None</td>\n",
       "      <td>None</td>\n",
       "      <td>None</td>\n",
       "    </tr>\n",
       "    <tr>\n",
       "      <th>1</th>\n",
       "      <td>44e2b9f26941456c904cbed7ae31de56</td>\n",
       "      <td>1</td>\n",
       "      <td>FINISHED</td>\n",
       "      <td>file:///Users/bradley.boehmke/Desktop/workspac...</td>\n",
       "      <td>2021-12-29 15:59:55.663000+00:00</td>\n",
       "      <td>2021-12-29 16:04:41.955000+00:00</td>\n",
       "      <td>0.282919</td>\n",
       "      <td>4.0</td>\n",
       "      <td>14.442268</td>\n",
       "      <td>0.066455</td>\n",
       "      <td>...</td>\n",
       "      <td>sklearn</td>\n",
       "      <td>658f56509691443e91201f10cc71bbd9</td>\n",
       "      <td>bradley.boehmke</td>\n",
       "      <td>/Users/bradley.boehmke/Downloads/ENTER/envs/uc...</td>\n",
       "      <td>Pipeline</td>\n",
       "      <td>LOCAL</td>\n",
       "      <td>sklearn.pipeline.Pipeline</td>\n",
       "      <td>None</td>\n",
       "      <td>None</td>\n",
       "      <td>None</td>\n",
       "    </tr>\n",
       "    <tr>\n",
       "      <th>2</th>\n",
       "      <td>53c4bf41200042a2a23b60a84f1f8642</td>\n",
       "      <td>1</td>\n",
       "      <td>FINISHED</td>\n",
       "      <td>file:///Users/bradley.boehmke/Desktop/workspac...</td>\n",
       "      <td>2021-12-29 15:59:55.663000+00:00</td>\n",
       "      <td>2021-12-29 16:04:41.955000+00:00</td>\n",
       "      <td>0.257934</td>\n",
       "      <td>1.0</td>\n",
       "      <td>8.672409</td>\n",
       "      <td>0.060784</td>\n",
       "      <td>...</td>\n",
       "      <td>sklearn</td>\n",
       "      <td>658f56509691443e91201f10cc71bbd9</td>\n",
       "      <td>bradley.boehmke</td>\n",
       "      <td>/Users/bradley.boehmke/Downloads/ENTER/envs/uc...</td>\n",
       "      <td>Pipeline</td>\n",
       "      <td>LOCAL</td>\n",
       "      <td>sklearn.pipeline.Pipeline</td>\n",
       "      <td>None</td>\n",
       "      <td>None</td>\n",
       "      <td>None</td>\n",
       "    </tr>\n",
       "    <tr>\n",
       "      <th>3</th>\n",
       "      <td>5bdb217baec94c8093208fb5c4a103f5</td>\n",
       "      <td>1</td>\n",
       "      <td>FINISHED</td>\n",
       "      <td>file:///Users/bradley.boehmke/Desktop/workspac...</td>\n",
       "      <td>2021-12-29 15:59:55.663000+00:00</td>\n",
       "      <td>2021-12-29 16:04:41.955000+00:00</td>\n",
       "      <td>0.255885</td>\n",
       "      <td>3.0</td>\n",
       "      <td>14.387484</td>\n",
       "      <td>0.075267</td>\n",
       "      <td>...</td>\n",
       "      <td>sklearn</td>\n",
       "      <td>658f56509691443e91201f10cc71bbd9</td>\n",
       "      <td>bradley.boehmke</td>\n",
       "      <td>/Users/bradley.boehmke/Downloads/ENTER/envs/uc...</td>\n",
       "      <td>Pipeline</td>\n",
       "      <td>LOCAL</td>\n",
       "      <td>sklearn.pipeline.Pipeline</td>\n",
       "      <td>None</td>\n",
       "      <td>None</td>\n",
       "      <td>None</td>\n",
       "    </tr>\n",
       "    <tr>\n",
       "      <th>4</th>\n",
       "      <td>658f56509691443e91201f10cc71bbd9</td>\n",
       "      <td>1</td>\n",
       "      <td>FINISHED</td>\n",
       "      <td>file:///Users/bradley.boehmke/Desktop/workspac...</td>\n",
       "      <td>2021-12-29 15:59:55.663000+00:00</td>\n",
       "      <td>2021-12-29 16:04:42.021000+00:00</td>\n",
       "      <td>NaN</td>\n",
       "      <td>NaN</td>\n",
       "      <td>NaN</td>\n",
       "      <td>NaN</td>\n",
       "      <td>...</td>\n",
       "      <td>None</td>\n",
       "      <td>None</td>\n",
       "      <td>bradley.boehmke</td>\n",
       "      <td>/Users/bradley.boehmke/Downloads/ENTER/envs/uc...</td>\n",
       "      <td>GridSearchCV</td>\n",
       "      <td>LOCAL</td>\n",
       "      <td>sklearn.model_selection._search.GridSearchCV</td>\n",
       "      <td>[{\"run_id\": \"658f56509691443e91201f10cc71bbd9\"...</td>\n",
       "      <td>knn_grid_search</td>\n",
       "      <td>None</td>\n",
       "    </tr>\n",
       "    <tr>\n",
       "      <th>5</th>\n",
       "      <td>0645840a3bfc473f9cbd4db95a51ae14</td>\n",
       "      <td>1</td>\n",
       "      <td>FINISHED</td>\n",
       "      <td>file:///Users/bradley.boehmke/Desktop/workspac...</td>\n",
       "      <td>2021-12-29 15:59:45.657000+00:00</td>\n",
       "      <td>2021-12-29 15:59:48.416000+00:00</td>\n",
       "      <td>NaN</td>\n",
       "      <td>NaN</td>\n",
       "      <td>NaN</td>\n",
       "      <td>NaN</td>\n",
       "      <td>...</td>\n",
       "      <td>None</td>\n",
       "      <td>None</td>\n",
       "      <td>bradley.boehmke</td>\n",
       "      <td>/Users/bradley.boehmke/Downloads/ENTER/envs/uc...</td>\n",
       "      <td>Pipeline</td>\n",
       "      <td>LOCAL</td>\n",
       "      <td>sklearn.pipeline.Pipeline</td>\n",
       "      <td>[{\"run_id\": \"0645840a3bfc473f9cbd4db95a51ae14\"...</td>\n",
       "      <td>autolog_run</td>\n",
       "      <td>None</td>\n",
       "    </tr>\n",
       "    <tr>\n",
       "      <th>6</th>\n",
       "      <td>13c968b931f84ccda1cd1d890e065f71</td>\n",
       "      <td>1</td>\n",
       "      <td>FINISHED</td>\n",
       "      <td>file:///Users/bradley.boehmke/Desktop/workspac...</td>\n",
       "      <td>2021-12-29 15:58:58.381000+00:00</td>\n",
       "      <td>2021-12-29 15:58:59.875000+00:00</td>\n",
       "      <td>NaN</td>\n",
       "      <td>NaN</td>\n",
       "      <td>NaN</td>\n",
       "      <td>NaN</td>\n",
       "      <td>...</td>\n",
       "      <td>None</td>\n",
       "      <td>None</td>\n",
       "      <td>bradley.boehmke</td>\n",
       "      <td>/Users/bradley.boehmke/Downloads/ENTER/envs/uc...</td>\n",
       "      <td>None</td>\n",
       "      <td>LOCAL</td>\n",
       "      <td>None</td>\n",
       "      <td>[{\"run_id\": \"13c968b931f84ccda1cd1d890e065f71\"...</td>\n",
       "      <td>baseline_model</td>\n",
       "      <td>LogisticRegression</td>\n",
       "    </tr>\n",
       "    <tr>\n",
       "      <th>7</th>\n",
       "      <td>e2cd789a7e4846ecae1cfc7d5234483a</td>\n",
       "      <td>1</td>\n",
       "      <td>FINISHED</td>\n",
       "      <td>file:///Users/bradley.boehmke/Desktop/workspac...</td>\n",
       "      <td>2021-12-29 15:58:54.157000+00:00</td>\n",
       "      <td>2021-12-29 15:58:54.656000+00:00</td>\n",
       "      <td>NaN</td>\n",
       "      <td>NaN</td>\n",
       "      <td>NaN</td>\n",
       "      <td>NaN</td>\n",
       "      <td>...</td>\n",
       "      <td>None</td>\n",
       "      <td>None</td>\n",
       "      <td>bradley.boehmke</td>\n",
       "      <td>/Users/bradley.boehmke/Downloads/ENTER/envs/uc...</td>\n",
       "      <td>None</td>\n",
       "      <td>LOCAL</td>\n",
       "      <td>None</td>\n",
       "      <td>None</td>\n",
       "      <td>run_as_context_mgr</td>\n",
       "      <td>None</td>\n",
       "    </tr>\n",
       "    <tr>\n",
       "      <th>8</th>\n",
       "      <td>7fdd4ab7845d4cbb8d8de6d97100855f</td>\n",
       "      <td>1</td>\n",
       "      <td>FINISHED</td>\n",
       "      <td>file:///Users/bradley.boehmke/Desktop/workspac...</td>\n",
       "      <td>2021-12-29 15:58:52.394000+00:00</td>\n",
       "      <td>2021-12-29 15:58:52.873000+00:00</td>\n",
       "      <td>NaN</td>\n",
       "      <td>NaN</td>\n",
       "      <td>NaN</td>\n",
       "      <td>NaN</td>\n",
       "      <td>...</td>\n",
       "      <td>None</td>\n",
       "      <td>None</td>\n",
       "      <td>bradley.boehmke</td>\n",
       "      <td>/Users/bradley.boehmke/Downloads/ENTER/envs/uc...</td>\n",
       "      <td>None</td>\n",
       "      <td>LOCAL</td>\n",
       "      <td>None</td>\n",
       "      <td>None</td>\n",
       "      <td>first_mlflow_run</td>\n",
       "      <td>None</td>\n",
       "    </tr>\n",
       "  </tbody>\n",
       "</table>\n",
       "<p>9 rows × 107 columns</p>\n",
       "</div>"
      ],
      "text/plain": [
       "                             run_id experiment_id    status  \\\n",
       "0  448506ac88724441ae908796af21c51b             1  FINISHED   \n",
       "1  44e2b9f26941456c904cbed7ae31de56             1  FINISHED   \n",
       "2  53c4bf41200042a2a23b60a84f1f8642             1  FINISHED   \n",
       "3  5bdb217baec94c8093208fb5c4a103f5             1  FINISHED   \n",
       "4  658f56509691443e91201f10cc71bbd9             1  FINISHED   \n",
       "5  0645840a3bfc473f9cbd4db95a51ae14             1  FINISHED   \n",
       "6  13c968b931f84ccda1cd1d890e065f71             1  FINISHED   \n",
       "7  e2cd789a7e4846ecae1cfc7d5234483a             1  FINISHED   \n",
       "8  7fdd4ab7845d4cbb8d8de6d97100855f             1  FINISHED   \n",
       "\n",
       "                                        artifact_uri  \\\n",
       "0  file:///Users/bradley.boehmke/Desktop/workspac...   \n",
       "1  file:///Users/bradley.boehmke/Desktop/workspac...   \n",
       "2  file:///Users/bradley.boehmke/Desktop/workspac...   \n",
       "3  file:///Users/bradley.boehmke/Desktop/workspac...   \n",
       "4  file:///Users/bradley.boehmke/Desktop/workspac...   \n",
       "5  file:///Users/bradley.boehmke/Desktop/workspac...   \n",
       "6  file:///Users/bradley.boehmke/Desktop/workspac...   \n",
       "7  file:///Users/bradley.boehmke/Desktop/workspac...   \n",
       "8  file:///Users/bradley.boehmke/Desktop/workspac...   \n",
       "\n",
       "                        start_time                         end_time  \\\n",
       "0 2021-12-29 15:59:55.663000+00:00 2021-12-29 16:04:41.955000+00:00   \n",
       "1 2021-12-29 15:59:55.663000+00:00 2021-12-29 16:04:41.955000+00:00   \n",
       "2 2021-12-29 15:59:55.663000+00:00 2021-12-29 16:04:41.955000+00:00   \n",
       "3 2021-12-29 15:59:55.663000+00:00 2021-12-29 16:04:41.955000+00:00   \n",
       "4 2021-12-29 15:59:55.663000+00:00 2021-12-29 16:04:42.021000+00:00   \n",
       "5 2021-12-29 15:59:45.657000+00:00 2021-12-29 15:59:48.416000+00:00   \n",
       "6 2021-12-29 15:58:58.381000+00:00 2021-12-29 15:58:59.875000+00:00   \n",
       "7 2021-12-29 15:58:54.157000+00:00 2021-12-29 15:58:54.656000+00:00   \n",
       "8 2021-12-29 15:58:52.394000+00:00 2021-12-29 15:58:52.873000+00:00   \n",
       "\n",
       "   metrics.std_score_time  metrics.rank_test_score  metrics.mean_score_time  \\\n",
       "0                0.241726                      2.0                 8.534959   \n",
       "1                0.282919                      4.0                14.442268   \n",
       "2                0.257934                      1.0                 8.672409   \n",
       "3                0.255885                      3.0                14.387484   \n",
       "4                     NaN                      NaN                      NaN   \n",
       "5                     NaN                      NaN                      NaN   \n",
       "6                     NaN                      NaN                      NaN   \n",
       "7                     NaN                      NaN                      NaN   \n",
       "8                     NaN                      NaN                      NaN   \n",
       "\n",
       "   metrics.mean_fit_time  ...  tags.mlflow.autologging  \\\n",
       "0               0.066297  ...                  sklearn   \n",
       "1               0.066455  ...                  sklearn   \n",
       "2               0.060784  ...                  sklearn   \n",
       "3               0.075267  ...                  sklearn   \n",
       "4                    NaN  ...                     None   \n",
       "5                    NaN  ...                     None   \n",
       "6                    NaN  ...                     None   \n",
       "7                    NaN  ...                     None   \n",
       "8                    NaN  ...                     None   \n",
       "\n",
       "            tags.mlflow.parentRunId  tags.mlflow.user  \\\n",
       "0  658f56509691443e91201f10cc71bbd9   bradley.boehmke   \n",
       "1  658f56509691443e91201f10cc71bbd9   bradley.boehmke   \n",
       "2  658f56509691443e91201f10cc71bbd9   bradley.boehmke   \n",
       "3  658f56509691443e91201f10cc71bbd9   bradley.boehmke   \n",
       "4                              None   bradley.boehmke   \n",
       "5                              None   bradley.boehmke   \n",
       "6                              None   bradley.boehmke   \n",
       "7                              None   bradley.boehmke   \n",
       "8                              None   bradley.boehmke   \n",
       "\n",
       "                             tags.mlflow.source.name  tags.estimator_name  \\\n",
       "0  /Users/bradley.boehmke/Downloads/ENTER/envs/uc...             Pipeline   \n",
       "1  /Users/bradley.boehmke/Downloads/ENTER/envs/uc...             Pipeline   \n",
       "2  /Users/bradley.boehmke/Downloads/ENTER/envs/uc...             Pipeline   \n",
       "3  /Users/bradley.boehmke/Downloads/ENTER/envs/uc...             Pipeline   \n",
       "4  /Users/bradley.boehmke/Downloads/ENTER/envs/uc...         GridSearchCV   \n",
       "5  /Users/bradley.boehmke/Downloads/ENTER/envs/uc...             Pipeline   \n",
       "6  /Users/bradley.boehmke/Downloads/ENTER/envs/uc...                 None   \n",
       "7  /Users/bradley.boehmke/Downloads/ENTER/envs/uc...                 None   \n",
       "8  /Users/bradley.boehmke/Downloads/ENTER/envs/uc...                 None   \n",
       "\n",
       "   tags.mlflow.source.type                          tags.estimator_class  \\\n",
       "0                    LOCAL                     sklearn.pipeline.Pipeline   \n",
       "1                    LOCAL                     sklearn.pipeline.Pipeline   \n",
       "2                    LOCAL                     sklearn.pipeline.Pipeline   \n",
       "3                    LOCAL                     sklearn.pipeline.Pipeline   \n",
       "4                    LOCAL  sklearn.model_selection._search.GridSearchCV   \n",
       "5                    LOCAL                     sklearn.pipeline.Pipeline   \n",
       "6                    LOCAL                                          None   \n",
       "7                    LOCAL                                          None   \n",
       "8                    LOCAL                                          None   \n",
       "\n",
       "                       tags.mlflow.log-model.history  tags.mlflow.runName  \\\n",
       "0                                               None                 None   \n",
       "1                                               None                 None   \n",
       "2                                               None                 None   \n",
       "3                                               None                 None   \n",
       "4  [{\"run_id\": \"658f56509691443e91201f10cc71bbd9\"...      knn_grid_search   \n",
       "5  [{\"run_id\": \"0645840a3bfc473f9cbd4db95a51ae14\"...          autolog_run   \n",
       "6  [{\"run_id\": \"13c968b931f84ccda1cd1d890e065f71\"...       baseline_model   \n",
       "7                                               None   run_as_context_mgr   \n",
       "8                                               None     first_mlflow_run   \n",
       "\n",
       "       tags.Estimator  \n",
       "0                None  \n",
       "1                None  \n",
       "2                None  \n",
       "3                None  \n",
       "4                None  \n",
       "5                None  \n",
       "6  LogisticRegression  \n",
       "7                None  \n",
       "8                None  \n",
       "\n",
       "[9 rows x 107 columns]"
      ]
     },
     "execution_count": 11,
     "metadata": {},
     "output_type": "execute_result"
    }
   ],
   "source": [
    "df = mlflow.search_runs(experiment_ids=experiment.experiment_id)\n",
    "df"
   ]
  },
  {
   "cell_type": "markdown",
   "id": "cb322074-39e8-480e-9ef8-fabc08de5ca8",
   "metadata": {
    "slideshow": {
     "slide_type": "slide"
    },
    "tags": []
   },
   "source": [
    "This allows us to query for the KNN grid search run and access the run ID:"
   ]
  },
  {
   "cell_type": "code",
   "execution_count": 31,
   "id": "0356feb4-ad60-497d-85aa-c3d044e03ab5",
   "metadata": {},
   "outputs": [
    {
     "data": {
      "text/plain": [
       "'658f56509691443e91201f10cc71bbd9'"
      ]
     },
     "execution_count": 31,
     "metadata": {},
     "output_type": "execute_result"
    }
   ],
   "source": [
    "model_filter = df['tags.mlflow.runName'] == 'knn_grid_search'\n",
    "run_id = df.loc[model_filter, 'run_id'].item()\n",
    "run_id"
   ]
  },
  {
   "cell_type": "markdown",
   "id": "33685e51-4225-43c7-b8b1-5b21d02d895a",
   "metadata": {
    "slideshow": {
     "slide_type": "fragment"
    },
    "tags": []
   },
   "source": [
    "Which we can use to load the the model:"
   ]
  },
  {
   "cell_type": "code",
   "execution_count": 32,
   "id": "ce8f1866-9970-4c24-a7f2-8f7a2a0a860a",
   "metadata": {},
   "outputs": [
    {
     "data": {
      "text/plain": [
       "Pipeline(steps=[('preprocessor',\n",
       "                 ColumnTransformer(transformers=[('one-hot-encoder',\n",
       "                                                  OneHotEncoder(handle_unknown='ignore'),\n",
       "                                                  ['workclass', 'education',\n",
       "                                                   'marital-status',\n",
       "                                                   'occupation', 'relationship',\n",
       "                                                   'race', 'sex',\n",
       "                                                   'native-country']),\n",
       "                                                 ('standard_scaler',\n",
       "                                                  StandardScaler(),\n",
       "                                                  ['age', 'capital-gain',\n",
       "                                                   'capital-loss',\n",
       "                                                   'hours-per-week'])])),\n",
       "                ('knn', KNeighborsClassifier(n_neighbors=20))])"
      ]
     },
     "execution_count": 32,
     "metadata": {},
     "output_type": "execute_result"
    }
   ],
   "source": [
    "model_path = f'mlruns/{experiment.experiment_id}/{run_id}/artifacts/best_estimator'\n",
    "model = mlflow.sklearn.load_model(model_path)\n",
    "model"
   ]
  },
  {
   "cell_type": "markdown",
   "id": "c2201d86-4f9b-4a05-82f7-63b070e74479",
   "metadata": {
    "slideshow": {
     "slide_type": "slide"
    },
    "tags": []
   },
   "source": [
    "However, using the ___Model Registry___ is a more sophisticated approach for saving and accessing models."
   ]
  },
  {
   "cell_type": "markdown",
   "id": "ddea0586-994a-4d6a-961e-e5b3ecd30e40",
   "metadata": {
    "slideshow": {
     "slide_type": "slide"
    },
    "tags": []
   },
   "source": [
    "## Registering models"
   ]
  },
  {
   "cell_type": "markdown",
   "id": "9f0b6665-e919-469b-ab3d-515dc208a219",
   "metadata": {},
   "source": [
    "MLflow provides a ___Model Registry___ that provides a centralized and collaborative approach to model lifecycle management."
   ]
  },
  {
   "cell_type": "markdown",
   "id": "b1d94158-318d-4a7f-84bc-f08219c58e47",
   "metadata": {
    "slideshow": {
     "slide_type": "fragment"
    },
    "tags": []
   },
   "source": [
    "<div class=\"admonition note alert alert-info\">\n",
    "    <p class=\"first admonition-title\" style=\"font-weight: bold;\"><b>Note</b></p>\n",
    "<p class=\"last\">You can register models programmatically or via the MLflow UI. However, to do so locally requires additional setup that we don't have time for. If using one of the main cloud providers (i.e. Databricks on AWS, Azure, or GCP) the setup is already done and model registration is very straightforward. </p>\n",
    "</div>"
   ]
  },
  {
   "cell_type": "markdown",
   "id": "5f5795b9-f932-4d77-9121-fe8f7ca4f72a",
   "metadata": {
    "slideshow": {
     "slide_type": "slide"
    },
    "tags": []
   },
   "source": [
    "__One Collaborative Hub__: The Model Registry provides a central hub for making models discoverable, improving collaboration and knowledge sharing across the organization.\n",
    "\n",
    "![](images/registered_models.png)"
   ]
  },
  {
   "cell_type": "markdown",
   "id": "1ff806eb-3a1a-45bc-87f3-02c23f4606ba",
   "metadata": {
    "slideshow": {
     "slide_type": "slide"
    },
    "tags": []
   },
   "source": [
    "__Manage the entire Model Lifecycle (MLOps)__: The Model Registry provides lifecycle management for models from experimentation to deployment, improving reliability and robustness of the model deployment process.\n",
    "\n",
    "1. Overview of active model versions and their deployment stage\n",
    "2. Request/Approval workflow for transitioning deployment stages\n",
    "\n",
    "![](images/model_registry_mlops.png)"
   ]
  },
  {
   "cell_type": "markdown",
   "id": "34bf98c9-ff61-45ec-9f7e-1b0669c12498",
   "metadata": {
    "slideshow": {
     "slide_type": "slide"
    },
    "tags": []
   },
   "source": [
    "__Visibility and Governance__: The Model Registry provides full visibility into the deployment stage of all models, who requested and approved changes, allowing for full governance and auditability.\n",
    "\n",
    "1. Full activity log of stage transition requests, approvals, etc.\n",
    "\n",
    "![](images/model_registry_visibility.png)"
   ]
  },
  {
   "cell_type": "markdown",
   "id": "550a0a14-eb18-4cb8-abc9-2285b459f080",
   "metadata": {
    "slideshow": {
     "slide_type": "slide"
    },
    "tags": []
   },
   "source": [
    "Full provenance from Model marked production in the Registry to ...\n",
    "1. Run that produced the model\n",
    "2. Notebook that produced the run\n",
    "3. Exact revision history of the notebook that produced the run\n",
    "\n",
    "<img src='images/model_registry_governance.png' id=\"logo\" height=\"70%\" width=\"70%\"/>"
   ]
  },
  {
   "cell_type": "markdown",
   "id": "be56363e-6ec2-4131-9b29-8f51fe506c32",
   "metadata": {
    "slideshow": {
     "slide_type": "slide"
    },
    "tags": []
   },
   "source": [
    "## Wrapping up"
   ]
  },
  {
   "cell_type": "markdown",
   "id": "0c834df0-a8c6-4af7-a7be-356e48377aec",
   "metadata": {},
   "source": [
    "This module introduced you to [MLflow](https://mlflow.org/docs/latest/index.html) for machine learning lifecycle management. We provided a very brief introduction to MLflow for... \n",
    "\n",
    "1. managing model experiments,\n",
    "1. tracking hyperparameter tuning,\n",
    "1. registering and serving models."
   ]
  },
  {
   "cell_type": "markdown",
   "id": "1692e803-05e0-459d-a779-ad017adb35d2",
   "metadata": {
    "slideshow": {
     "slide_type": "fragment"
    },
    "tags": []
   },
   "source": [
    "MLflow provides so much more than we have time to cover; however, this should give you a decent foundation to build upon. \n",
    "\n",
    "We recommend the following resources to learn more:\n",
    "\n",
    "   - [mlflow.org](https://mlflow.org/)\n",
    "   - [github.com/mlflow](https://github.com/mlflow)\n",
    "   - [Slack channel](https://join.slack.com/t/mlflow-users/shared_invite/zt-g6qwro5u-odM7pRnZxNX_w56mcsHp8g)\n",
    "   - [stackoverflow.com/questions/tagged/mlflow](https://stackoverflow.com/questions/tagged/mlflow)\n",
    "   - [twitter.com/MLflow](https://twitter.com/MLflow)\n",
    "   - [databricks.com/mlflow](https://databricks.com/product/managed-mlflow)"
   ]
  },
  {
   "cell_type": "code",
   "execution_count": null,
   "id": "3e087e51-7409-43dc-9a9e-a37ad5a57c61",
   "metadata": {},
   "outputs": [],
   "source": []
  }
 ],
 "metadata": {
  "kernelspec": {
   "display_name": "Python 3 (ipykernel)",
   "language": "python",
   "name": "python3"
  },
  "language_info": {
   "codemirror_mode": {
    "name": "ipython",
    "version": 3
   },
   "file_extension": ".py",
   "mimetype": "text/x-python",
   "name": "python",
   "nbconvert_exporter": "python",
   "pygments_lexer": "ipython3",
   "version": "3.8.12"
  }
 },
 "nbformat": 4,
 "nbformat_minor": 5
}
